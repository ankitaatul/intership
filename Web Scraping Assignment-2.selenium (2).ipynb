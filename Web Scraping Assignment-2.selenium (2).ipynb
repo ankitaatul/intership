{
 "cells": [
  {
   "cell_type": "code",
   "execution_count": 1,
   "id": "22a5ab4b",
   "metadata": {},
   "outputs": [
    {
     "name": "stdout",
     "output_type": "stream",
     "text": [
      "Collecting selenium\n",
      "  Downloading selenium-4.4.3-py3-none-any.whl (985 kB)\n",
      "Collecting trio-websocket~=0.9\n",
      "  Downloading trio_websocket-0.9.2-py3-none-any.whl (16 kB)\n",
      "Collecting trio~=0.17\n",
      "  Downloading trio-0.21.0-py3-none-any.whl (358 kB)\n",
      "Requirement already satisfied: certifi>=2021.10.8 in c:\\users\\dell\\anaconda3\\lib\\site-packages (from selenium) (2021.10.8)\n",
      "Requirement already satisfied: urllib3[socks]~=1.26 in c:\\users\\dell\\anaconda3\\lib\\site-packages (from selenium) (1.26.7)\n",
      "Requirement already satisfied: sniffio in c:\\users\\dell\\anaconda3\\lib\\site-packages (from trio~=0.17->selenium) (1.2.0)\n",
      "Requirement already satisfied: cffi>=1.14 in c:\\users\\dell\\anaconda3\\lib\\site-packages (from trio~=0.17->selenium) (1.14.6)\n",
      "Requirement already satisfied: attrs>=19.2.0 in c:\\users\\dell\\anaconda3\\lib\\site-packages (from trio~=0.17->selenium) (21.2.0)\n",
      "Requirement already satisfied: sortedcontainers in c:\\users\\dell\\anaconda3\\lib\\site-packages (from trio~=0.17->selenium) (2.4.0)\n",
      "Collecting outcome\n",
      "  Downloading outcome-1.2.0-py2.py3-none-any.whl (9.7 kB)\n",
      "Requirement already satisfied: async-generator>=1.9 in c:\\users\\dell\\anaconda3\\lib\\site-packages (from trio~=0.17->selenium) (1.10)\n",
      "Requirement already satisfied: idna in c:\\users\\dell\\anaconda3\\lib\\site-packages (from trio~=0.17->selenium) (3.2)\n",
      "Requirement already satisfied: pycparser in c:\\users\\dell\\anaconda3\\lib\\site-packages (from cffi>=1.14->trio~=0.17->selenium) (2.20)\n",
      "Collecting wsproto>=0.14\n",
      "  Downloading wsproto-1.2.0-py3-none-any.whl (24 kB)\n",
      "Requirement already satisfied: PySocks!=1.5.7,<2.0,>=1.5.6 in c:\\users\\dell\\anaconda3\\lib\\site-packages (from urllib3[socks]~=1.26->selenium) (1.7.1)\n",
      "Collecting h11<1,>=0.9.0\n",
      "  Downloading h11-0.13.0-py3-none-any.whl (58 kB)\n",
      "Installing collected packages: outcome, h11, wsproto, trio, trio-websocket, selenium\n",
      "Successfully installed h11-0.13.0 outcome-1.2.0 selenium-4.4.3 trio-0.21.0 trio-websocket-0.9.2 wsproto-1.2.0\n"
     ]
    }
   ],
   "source": [
    "!pip install selenium"
   ]
  },
  {
   "cell_type": "markdown",
   "id": "667aeb4b",
   "metadata": {},
   "source": [
    "# 1 question"
   ]
  },
  {
   "cell_type": "code",
   "execution_count": 3,
   "id": "cc5a7758",
   "metadata": {},
   "outputs": [],
   "source": [
    "#  import all librabries\n",
    "\n",
    "import selenium\n",
    "import pandas as pd\n",
    "from selenium import webdriver\n",
    "import warnings\n",
    "warnings.filterwarnings('ignore')\n",
    "from selenium.common.exceptions import StaleElementReferenceException, NoSuchElementException\n",
    "from selenium.webdriver.common.by import By\n",
    "import time"
   ]
  },
  {
   "cell_type": "code",
   "execution_count": 5,
   "id": "c45d7b67",
   "metadata": {},
   "outputs": [],
   "source": [
    "# now we will download the webdriver for the web browser\n",
    "#   go to link https://chromedriver.chromium.org/downloads\n",
    "    "
   ]
  },
  {
   "cell_type": "code",
   "execution_count": 4,
   "id": "c69236ae",
   "metadata": {},
   "outputs": [],
   "source": [
    "# first connect to the browser\n",
    "driver = webdriver.Chrome(r\"C:\\Users\\Dell\\Downloads\\chromedriver_win32\\chromedriver.exe\"  )"
   ]
  },
  {
   "cell_type": "code",
   "execution_count": 5,
   "id": "7f9a2f22",
   "metadata": {},
   "outputs": [],
   "source": [
    "#opening this page from automated chrome browser\n",
    "driver.get(\"https://www.naukri.com/\")"
   ]
  },
  {
   "cell_type": "code",
   "execution_count": 6,
   "id": "e7d6a6ce",
   "metadata": {},
   "outputs": [],
   "source": [
    "#  entering designation and location as required in the question\n",
    "\n",
    "designation=driver.find_element(By.CLASS_NAME,\"suggestor-input\")\n",
    "designation.send_keys('Data Analyst')"
   ]
  },
  {
   "cell_type": "code",
   "execution_count": 7,
   "id": "a48ecb08",
   "metadata": {},
   "outputs": [],
   "source": [
    "location=driver.find_element(By.XPATH,\"/html/body/div[1]/div[6]/div/div/div[5]/div/div/div/input\")\n",
    "location.send_keys('Banglore')"
   ]
  },
  {
   "cell_type": "code",
   "execution_count": 8,
   "id": "52a4490b",
   "metadata": {},
   "outputs": [],
   "source": [
    "search=driver.find_element(By.CLASS_NAME,\"qsbSubmit\")\n",
    "search.click()"
   ]
  },
  {
   "cell_type": "code",
   "execution_count": 9,
   "id": "382e2bfb",
   "metadata": {},
   "outputs": [],
   "source": [
    "job_title=[]\n",
    "job_location=[]\n",
    "company_name=[]\n",
    "experience_required=[]"
   ]
  },
  {
   "cell_type": "code",
   "execution_count": 10,
   "id": "3729e0e5",
   "metadata": {},
   "outputs": [],
   "source": [
    "#  scraping job title from given page\n",
    "title_tags=driver.find_elements(By.XPATH,'//a[@class=\"title fw500 ellipsis\"]')\n",
    "for i in title_tags[0:10]:\n",
    "    title=i.text\n",
    "    job_title.append(title)\n",
    "    \n",
    "#  scraping job location from given page\n",
    "location_tags=driver.find_elements(By.XPATH,\"//li[@class='fleft grey-text br2 placeHolderLi location']\")\n",
    "for i in location_tags[0:10]:\n",
    "    location=i.text\n",
    "    job_location.append(location)\n",
    "\n",
    "    \n",
    "#  scraping company name from iven page\n",
    "company_tags=driver.find_elements(By.XPATH,\"//a[@class='subTitle ellipsis fleft']\")\n",
    "for i in company_tags[0:10]:\n",
    "    company=i.text\n",
    "    company_name.append(company)\n",
    "    \n",
    "# scraping job Experience from the given page\n",
    "experience_tags=driver.find_elements(By.XPATH,\"//li[@class='fleft grey-text br2 placeHolderLi experience']//span\")\n",
    "for i in experience_tags[0:10]:\n",
    "    exp=i.text\n",
    "    experience_required.append(exp)"
   ]
  },
  {
   "cell_type": "code",
   "execution_count": 11,
   "id": "03d5217b",
   "metadata": {},
   "outputs": [
    {
     "name": "stdout",
     "output_type": "stream",
     "text": [
      "10 10 10 10\n"
     ]
    }
   ],
   "source": [
    "print(len(job_title),len(job_location),len(company_name),len(experience_required))"
   ]
  },
  {
   "cell_type": "code",
   "execution_count": 12,
   "id": "1d2939bb",
   "metadata": {},
   "outputs": [],
   "source": [
    "#  create the dataframe\n",
    "df=pd.DataFrame({'job_title':job_title,'job_location':job_location,'company_name':company_name,'exp_required':experience_required})"
   ]
  },
  {
   "cell_type": "code",
   "execution_count": 13,
   "id": "716a16f6",
   "metadata": {},
   "outputs": [
    {
     "data": {
      "text/html": [
       "<div>\n",
       "<style scoped>\n",
       "    .dataframe tbody tr th:only-of-type {\n",
       "        vertical-align: middle;\n",
       "    }\n",
       "\n",
       "    .dataframe tbody tr th {\n",
       "        vertical-align: top;\n",
       "    }\n",
       "\n",
       "    .dataframe thead th {\n",
       "        text-align: right;\n",
       "    }\n",
       "</style>\n",
       "<table border=\"1\" class=\"dataframe\">\n",
       "  <thead>\n",
       "    <tr style=\"text-align: right;\">\n",
       "      <th></th>\n",
       "      <th>job_title</th>\n",
       "      <th>job_location</th>\n",
       "      <th>company_name</th>\n",
       "      <th>exp_required</th>\n",
       "    </tr>\n",
       "  </thead>\n",
       "  <tbody>\n",
       "    <tr>\n",
       "      <th>0</th>\n",
       "      <td>Contractual Hiring For Top MNC || Business Dat...</td>\n",
       "      <td>Bangalore/Bengaluru</td>\n",
       "      <td>TeamLease</td>\n",
       "      <td>5-8 Yrs</td>\n",
       "    </tr>\n",
       "    <tr>\n",
       "      <th>1</th>\n",
       "      <td>Customer Data Analyst</td>\n",
       "      <td>Bangalore/Bengaluru</td>\n",
       "      <td>Oracle</td>\n",
       "      <td>1-3 Yrs</td>\n",
       "    </tr>\n",
       "    <tr>\n",
       "      <th>2</th>\n",
       "      <td>Data Analyst - Decision Science</td>\n",
       "      <td>Bangalore/Bengaluru</td>\n",
       "      <td>Jana Small Finance Bank</td>\n",
       "      <td>3-8 Yrs</td>\n",
       "    </tr>\n",
       "    <tr>\n",
       "      <th>3</th>\n",
       "      <td>Immediate opening For Data Analyst @ Bangalore</td>\n",
       "      <td>Bangalore/Bengaluru</td>\n",
       "      <td>TeamLease</td>\n",
       "      <td>4-6 Yrs</td>\n",
       "    </tr>\n",
       "    <tr>\n",
       "      <th>4</th>\n",
       "      <td>Associate Data Analyst</td>\n",
       "      <td>Bangalore/Bengaluru</td>\n",
       "      <td>Optum</td>\n",
       "      <td>2-7 Yrs</td>\n",
       "    </tr>\n",
       "    <tr>\n",
       "      <th>5</th>\n",
       "      <td>Associate Data Analyst</td>\n",
       "      <td>Bangalore/Bengaluru</td>\n",
       "      <td>Optum</td>\n",
       "      <td>1-4 Yrs</td>\n",
       "    </tr>\n",
       "    <tr>\n",
       "      <th>6</th>\n",
       "      <td>Senior Data Analyst</td>\n",
       "      <td>Bangalore/Bengaluru(Domlur)</td>\n",
       "      <td>KrazyBee</td>\n",
       "      <td>3-5 Yrs</td>\n",
       "    </tr>\n",
       "    <tr>\n",
       "      <th>7</th>\n",
       "      <td>Data Analyst</td>\n",
       "      <td>Bangalore/Bengaluru</td>\n",
       "      <td>Vola Finance</td>\n",
       "      <td>3-7 Yrs</td>\n",
       "    </tr>\n",
       "    <tr>\n",
       "      <th>8</th>\n",
       "      <td>Women on career break_ Data Analyst</td>\n",
       "      <td>Hyderabad/Secunderabad, Bangalore/Bengaluru</td>\n",
       "      <td>Zinnov Management C</td>\n",
       "      <td>5-10 Yrs</td>\n",
       "    </tr>\n",
       "    <tr>\n",
       "      <th>9</th>\n",
       "      <td>BYJU'S DBEL : Sr Data Analyst</td>\n",
       "      <td>Bangalore/Bengaluru</td>\n",
       "      <td>BYJUS</td>\n",
       "      <td>3-7 Yrs</td>\n",
       "    </tr>\n",
       "  </tbody>\n",
       "</table>\n",
       "</div>"
      ],
      "text/plain": [
       "                                           job_title  \\\n",
       "0  Contractual Hiring For Top MNC || Business Dat...   \n",
       "1                              Customer Data Analyst   \n",
       "2                    Data Analyst - Decision Science   \n",
       "3     Immediate opening For Data Analyst @ Bangalore   \n",
       "4                             Associate Data Analyst   \n",
       "5                             Associate Data Analyst   \n",
       "6                                Senior Data Analyst   \n",
       "7                                       Data Analyst   \n",
       "8                Women on career break_ Data Analyst   \n",
       "9                      BYJU'S DBEL : Sr Data Analyst   \n",
       "\n",
       "                                  job_location             company_name  \\\n",
       "0                          Bangalore/Bengaluru                TeamLease   \n",
       "1                          Bangalore/Bengaluru                   Oracle   \n",
       "2                          Bangalore/Bengaluru  Jana Small Finance Bank   \n",
       "3                          Bangalore/Bengaluru                TeamLease   \n",
       "4                          Bangalore/Bengaluru                    Optum   \n",
       "5                          Bangalore/Bengaluru                    Optum   \n",
       "6                  Bangalore/Bengaluru(Domlur)                 KrazyBee   \n",
       "7                          Bangalore/Bengaluru             Vola Finance   \n",
       "8  Hyderabad/Secunderabad, Bangalore/Bengaluru      Zinnov Management C   \n",
       "9                          Bangalore/Bengaluru                    BYJUS   \n",
       "\n",
       "  exp_required  \n",
       "0      5-8 Yrs  \n",
       "1      1-3 Yrs  \n",
       "2      3-8 Yrs  \n",
       "3      4-6 Yrs  \n",
       "4      2-7 Yrs  \n",
       "5      1-4 Yrs  \n",
       "6      3-5 Yrs  \n",
       "7      3-7 Yrs  \n",
       "8     5-10 Yrs  \n",
       "9      3-7 Yrs  "
      ]
     },
     "execution_count": 13,
     "metadata": {},
     "output_type": "execute_result"
    }
   ],
   "source": [
    "df"
   ]
  },
  {
   "cell_type": "code",
   "execution_count": null,
   "id": "7b3df1cf",
   "metadata": {},
   "outputs": [],
   "source": []
  },
  {
   "cell_type": "markdown",
   "id": "9ee8d979",
   "metadata": {},
   "source": [
    "#  2... scraped data for data scientist location banglore"
   ]
  },
  {
   "cell_type": "code",
   "execution_count": 14,
   "id": "a9a85486",
   "metadata": {},
   "outputs": [],
   "source": [
    "#  import all librabries\n",
    "\n",
    "import selenium\n",
    "import pandas as pd\n",
    "from selenium import webdriver\n",
    "import warnings\n",
    "warnings.filterwarnings('ignore')\n",
    "from selenium.common.exceptions import StaleElementReferenceException, NoSuchElementException\n",
    "from selenium.webdriver.common.by import By\n",
    "import time"
   ]
  },
  {
   "cell_type": "code",
   "execution_count": 15,
   "id": "7ffff98a",
   "metadata": {},
   "outputs": [],
   "source": [
    "# first connect to the browser\n",
    "driver = webdriver.Chrome(r\"C:\\Users\\Dell\\Downloads\\chromedriver_win32\\chromedriver.exe\"  )"
   ]
  },
  {
   "cell_type": "code",
   "execution_count": 16,
   "id": "b443a4de",
   "metadata": {},
   "outputs": [],
   "source": [
    "#opening this page from automated chrome browser\n",
    "driver.get(\"https://www.naukri.com/\")"
   ]
  },
  {
   "cell_type": "code",
   "execution_count": 17,
   "id": "e166a210",
   "metadata": {},
   "outputs": [],
   "source": [
    "#  entering designation and location as required in the question\n",
    "\n",
    "designation=driver.find_element(By.CLASS_NAME,\"suggestor-input\")\n",
    "designation.send_keys('Data scientist')"
   ]
  },
  {
   "cell_type": "code",
   "execution_count": 18,
   "id": "b743527f",
   "metadata": {},
   "outputs": [],
   "source": [
    "location=driver.find_element(By.XPATH,\"/html/body/div[1]/div[6]/div/div/div[5]/div/div/div/input\")\n",
    "location.send_keys('Banglore')"
   ]
  },
  {
   "cell_type": "code",
   "execution_count": 19,
   "id": "f709eea9",
   "metadata": {},
   "outputs": [],
   "source": [
    "search=driver.find_element(By.CLASS_NAME,\"qsbSubmit\")\n",
    "search.click()"
   ]
  },
  {
   "cell_type": "code",
   "execution_count": 20,
   "id": "33269bd5",
   "metadata": {},
   "outputs": [],
   "source": [
    "job_title=[]\n",
    "job_location=[]\n",
    "company_name=[]"
   ]
  },
  {
   "cell_type": "code",
   "execution_count": 21,
   "id": "bd6814de",
   "metadata": {},
   "outputs": [],
   "source": [
    "#  scraping job title from given page\n",
    "title_tags=driver.find_elements(By.XPATH,'//a[@class=\"title fw500 ellipsis\"]')\n",
    "for i in title_tags[0:10]:\n",
    "    title=i.text\n",
    "    job_title.append(title)\n",
    "    \n",
    "#  scraping job location from given page\n",
    "location_tags=driver.find_elements(By.XPATH,\"//li[@class='fleft grey-text br2 placeHolderLi location']\")\n",
    "for i in location_tags[0:10]:\n",
    "    location=i.text\n",
    "    job_location.append(location)\n",
    "\n",
    "    \n",
    "#  scraping company name from given page\n",
    "company_tags=driver.find_elements(By.XPATH,\"//a[@class='subTitle ellipsis fleft']\")\n",
    "for i in company_tags[0:10]:\n",
    "    company=i.text\n",
    "    company_name.append(company)"
   ]
  },
  {
   "cell_type": "code",
   "execution_count": 22,
   "id": "52c122d3",
   "metadata": {},
   "outputs": [
    {
     "name": "stdout",
     "output_type": "stream",
     "text": [
      "10 10 10\n"
     ]
    }
   ],
   "source": [
    "print(len(job_title),len(job_location),len(company_name))"
   ]
  },
  {
   "cell_type": "code",
   "execution_count": 23,
   "id": "bdcf9236",
   "metadata": {},
   "outputs": [],
   "source": [
    "#  create the dataframe\n",
    "df=pd.DataFrame({'job_title':job_title,'job_location':job_location,'company_name':company_name})"
   ]
  },
  {
   "cell_type": "code",
   "execution_count": 24,
   "id": "c9be62d9",
   "metadata": {},
   "outputs": [
    {
     "data": {
      "text/html": [
       "<div>\n",
       "<style scoped>\n",
       "    .dataframe tbody tr th:only-of-type {\n",
       "        vertical-align: middle;\n",
       "    }\n",
       "\n",
       "    .dataframe tbody tr th {\n",
       "        vertical-align: top;\n",
       "    }\n",
       "\n",
       "    .dataframe thead th {\n",
       "        text-align: right;\n",
       "    }\n",
       "</style>\n",
       "<table border=\"1\" class=\"dataframe\">\n",
       "  <thead>\n",
       "    <tr style=\"text-align: right;\">\n",
       "      <th></th>\n",
       "      <th>job_title</th>\n",
       "      <th>job_location</th>\n",
       "      <th>company_name</th>\n",
       "    </tr>\n",
       "  </thead>\n",
       "  <tbody>\n",
       "    <tr>\n",
       "      <th>0</th>\n",
       "      <td>Job Opportunity on Data Science_ Python with T...</td>\n",
       "      <td>Kolkata, Hyderabad/Secunderabad, Pune, Chennai...</td>\n",
       "      <td>Tech Mahindra</td>\n",
       "    </tr>\n",
       "    <tr>\n",
       "      <th>1</th>\n",
       "      <td>Assistant Manager - Data Science</td>\n",
       "      <td>Mumbai, Pune, Bangalore/Bengaluru</td>\n",
       "      <td>CitiusTech</td>\n",
       "    </tr>\n",
       "    <tr>\n",
       "      <th>2</th>\n",
       "      <td>Analystics &amp; Modeling Specialist</td>\n",
       "      <td>Kolkata, Mumbai, Hyderabad/Secunderabad, Pune,...</td>\n",
       "      <td>Accenture</td>\n",
       "    </tr>\n",
       "    <tr>\n",
       "      <th>3</th>\n",
       "      <td>Hiring For DATA Scientist @ NTT DATA Business ...</td>\n",
       "      <td>Noida, Hyderabad/Secunderabad, Pune, Gurgaon/G...</td>\n",
       "      <td>NTT DATA Business Solutions Private Limited</td>\n",
       "    </tr>\n",
       "    <tr>\n",
       "      <th>4</th>\n",
       "      <td>Data Scientist - A.P. Maersk</td>\n",
       "      <td>Bangalore/Bengaluru\\n(WFH during Covid)</td>\n",
       "      <td>Maersk</td>\n",
       "    </tr>\n",
       "    <tr>\n",
       "      <th>5</th>\n",
       "      <td>Data Scientist</td>\n",
       "      <td>Bangalore/Bengaluru</td>\n",
       "      <td>Infosys</td>\n",
       "    </tr>\n",
       "    <tr>\n",
       "      <th>6</th>\n",
       "      <td>Data Scientist</td>\n",
       "      <td>Bangalore/Bengaluru</td>\n",
       "      <td>United Phosphorus Limited</td>\n",
       "    </tr>\n",
       "    <tr>\n",
       "      <th>7</th>\n",
       "      <td>Data Scientist</td>\n",
       "      <td>Bangalore/Bengaluru</td>\n",
       "      <td>United Phosphorus Limited</td>\n",
       "    </tr>\n",
       "    <tr>\n",
       "      <th>8</th>\n",
       "      <td>Data Scientist</td>\n",
       "      <td>Bangalore/Bengaluru</td>\n",
       "      <td>United Phosphorus Limited</td>\n",
       "    </tr>\n",
       "    <tr>\n",
       "      <th>9</th>\n",
       "      <td>Data Scientist</td>\n",
       "      <td>Bangalore/Bengaluru</td>\n",
       "      <td>United Phosphorus Limited</td>\n",
       "    </tr>\n",
       "  </tbody>\n",
       "</table>\n",
       "</div>"
      ],
      "text/plain": [
       "                                           job_title  \\\n",
       "0  Job Opportunity on Data Science_ Python with T...   \n",
       "1                   Assistant Manager - Data Science   \n",
       "2                   Analystics & Modeling Specialist   \n",
       "3  Hiring For DATA Scientist @ NTT DATA Business ...   \n",
       "4                       Data Scientist - A.P. Maersk   \n",
       "5                                     Data Scientist   \n",
       "6                                     Data Scientist   \n",
       "7                                     Data Scientist   \n",
       "8                                     Data Scientist   \n",
       "9                                     Data Scientist   \n",
       "\n",
       "                                        job_location  \\\n",
       "0  Kolkata, Hyderabad/Secunderabad, Pune, Chennai...   \n",
       "1                  Mumbai, Pune, Bangalore/Bengaluru   \n",
       "2  Kolkata, Mumbai, Hyderabad/Secunderabad, Pune,...   \n",
       "3  Noida, Hyderabad/Secunderabad, Pune, Gurgaon/G...   \n",
       "4            Bangalore/Bengaluru\\n(WFH during Covid)   \n",
       "5                                Bangalore/Bengaluru   \n",
       "6                                Bangalore/Bengaluru   \n",
       "7                                Bangalore/Bengaluru   \n",
       "8                                Bangalore/Bengaluru   \n",
       "9                                Bangalore/Bengaluru   \n",
       "\n",
       "                                  company_name  \n",
       "0                                Tech Mahindra  \n",
       "1                                   CitiusTech  \n",
       "2                                    Accenture  \n",
       "3  NTT DATA Business Solutions Private Limited  \n",
       "4                                       Maersk  \n",
       "5                                      Infosys  \n",
       "6                    United Phosphorus Limited  \n",
       "7                    United Phosphorus Limited  \n",
       "8                    United Phosphorus Limited  \n",
       "9                    United Phosphorus Limited  "
      ]
     },
     "execution_count": 24,
     "metadata": {},
     "output_type": "execute_result"
    }
   ],
   "source": [
    "df"
   ]
  },
  {
   "cell_type": "code",
   "execution_count": null,
   "id": "a96a1767",
   "metadata": {},
   "outputs": [],
   "source": []
  },
  {
   "cell_type": "markdown",
   "id": "f7e44342",
   "metadata": {},
   "source": [
    "#   3....scrape data using the filters available on the webpage"
   ]
  },
  {
   "cell_type": "code",
   "execution_count": 1,
   "id": "3fb0d4a3",
   "metadata": {},
   "outputs": [],
   "source": [
    "#    You have to use the location and salary filter.\n",
    "#You have to scrape data for “Data Scientist” designation for first 10 job results.\n",
    "#You have to scrape the job-title, job-location, company name, experience required.\n",
    "#The location filter to be used is “Delhi/NCR”. The salary filter to be used is “3-6” lakhs"
   ]
  },
  {
   "cell_type": "code",
   "execution_count": 7,
   "id": "f94a1ab8",
   "metadata": {},
   "outputs": [],
   "source": [
    "#  import all librabries\n",
    "\n",
    "import selenium\n",
    "import pandas as pd\n",
    "from selenium import webdriver\n",
    "import warnings\n",
    "warnings.filterwarnings('ignore')\n",
    "from selenium.common.exceptions import StaleElementReferenceException, NoSuchElementException\n",
    "from selenium.webdriver.common.by import By\n",
    "import time"
   ]
  },
  {
   "cell_type": "code",
   "execution_count": 44,
   "id": "b4f53d22",
   "metadata": {},
   "outputs": [],
   "source": [
    "# first connect to the browser\n",
    "driver = webdriver.Chrome(r\"C:\\Users\\Dell\\Downloads\\chromedriver_win32\\chromedriver.exe\"  )"
   ]
  },
  {
   "cell_type": "code",
   "execution_count": 45,
   "id": "4232c8d6",
   "metadata": {},
   "outputs": [],
   "source": [
    "#opening this page from automated chrome browser\n",
    "driver.get(\"https://www.naukri.com/\")"
   ]
  },
  {
   "cell_type": "code",
   "execution_count": 46,
   "id": "8e4906ba",
   "metadata": {},
   "outputs": [],
   "source": [
    "#  entering designation and location as required in the question\n",
    "\n",
    "designation=driver.find_element(By.CLASS_NAME,\"suggestor-input\")\n",
    "designation.send_keys('Data scientist')"
   ]
  },
  {
   "cell_type": "code",
   "execution_count": 47,
   "id": "72733a46",
   "metadata": {},
   "outputs": [],
   "source": [
    "search=driver.find_element(By.CLASS_NAME,\"qsbSubmit\")\n",
    "search.click()"
   ]
  },
  {
   "cell_type": "code",
   "execution_count": 51,
   "id": "0d19e3f9",
   "metadata": {},
   "outputs": [],
   "source": [
    "location=driver.find_element(By.XPATH,\"/html/body/div[1]/div[4]/div/section[1]/div[2]/div[5]/div[2]/div[3]/label/p/span[1]\")\n",
    "location.click()"
   ]
  },
  {
   "cell_type": "code",
   "execution_count": 52,
   "id": "0ecf37a9",
   "metadata": {},
   "outputs": [],
   "source": [
    "salary=driver.find_element(By.XPATH,\"/html/body/div[1]/div[4]/div/section[1]/div[2]/div[6]/div[2]/div[2]/label/p/span[1]\")\n",
    "salary.click()"
   ]
  },
  {
   "cell_type": "code",
   "execution_count": 54,
   "id": "6dda85ea",
   "metadata": {},
   "outputs": [],
   "source": [
    "job_title=[]\n",
    "job_location=[]\n",
    "company_name=[]\n",
    "experience_required=[]"
   ]
  },
  {
   "cell_type": "code",
   "execution_count": 55,
   "id": "900a55c8",
   "metadata": {},
   "outputs": [],
   "source": [
    "#  scraping job title from given page\n",
    "title_tags=driver.find_elements(By.XPATH,'//a[@class=\"title fw500 ellipsis\"]')\n",
    "for i in title_tags[0:10]:\n",
    "    title=i.text\n",
    "    job_title.append(title)\n",
    "    \n",
    "#  scraping job location from given page\n",
    "location_tags=driver.find_elements(By.XPATH,\"//li[@class='fleft grey-text br2 placeHolderLi location']\")\n",
    "for i in location_tags[0:10]:\n",
    "    location=i.text\n",
    "    job_location.append(location)\n",
    "\n",
    "    \n",
    "#  scraping company name from iven page\n",
    "company_tags=driver.find_elements(By.XPATH,\"//a[@class='subTitle ellipsis fleft']\")\n",
    "for i in company_tags[0:10]:\n",
    "    company=i.text\n",
    "    company_name.append(company)\n",
    "    \n",
    "# scraping job Experience from the given page\n",
    "experience_tags=driver.find_elements(By.XPATH,\"//li[@class='fleft grey-text br2 placeHolderLi experience']//span\")\n",
    "for i in experience_tags[0:10]:\n",
    "    exp=i.text\n",
    "    experience_required.append(exp)"
   ]
  },
  {
   "cell_type": "code",
   "execution_count": 56,
   "id": "21fa7aef",
   "metadata": {},
   "outputs": [
    {
     "name": "stdout",
     "output_type": "stream",
     "text": [
      "10 10 10 10\n"
     ]
    }
   ],
   "source": [
    "print(len(job_title),len(job_location),len(company_name),len(experience_required))"
   ]
  },
  {
   "cell_type": "code",
   "execution_count": 57,
   "id": "9e804baf",
   "metadata": {},
   "outputs": [],
   "source": [
    "#  create the dataframe\n",
    "df=pd.DataFrame({'job_title':job_title,'job_location':job_location,'company_name':company_name,'experience_required':experience_required})"
   ]
  },
  {
   "cell_type": "code",
   "execution_count": 58,
   "id": "39b86e60",
   "metadata": {},
   "outputs": [
    {
     "data": {
      "text/html": [
       "<div>\n",
       "<style scoped>\n",
       "    .dataframe tbody tr th:only-of-type {\n",
       "        vertical-align: middle;\n",
       "    }\n",
       "\n",
       "    .dataframe tbody tr th {\n",
       "        vertical-align: top;\n",
       "    }\n",
       "\n",
       "    .dataframe thead th {\n",
       "        text-align: right;\n",
       "    }\n",
       "</style>\n",
       "<table border=\"1\" class=\"dataframe\">\n",
       "  <thead>\n",
       "    <tr style=\"text-align: right;\">\n",
       "      <th></th>\n",
       "      <th>job_title</th>\n",
       "      <th>job_location</th>\n",
       "      <th>company_name</th>\n",
       "      <th>experience_required</th>\n",
       "    </tr>\n",
       "  </thead>\n",
       "  <tbody>\n",
       "    <tr>\n",
       "      <th>0</th>\n",
       "      <td>Data Scientist - Engine Algorithm</td>\n",
       "      <td>Delhi / NCR, Kolkata, Mumbai, Hyderabad/Secund...</td>\n",
       "      <td>Primo Hiring</td>\n",
       "      <td>1-3 Yrs</td>\n",
       "    </tr>\n",
       "    <tr>\n",
       "      <th>1</th>\n",
       "      <td>Data Scientist - Predictive Analytics</td>\n",
       "      <td>Noida, Mumbai, Chandigarh, Hyderabad/Secundera...</td>\n",
       "      <td>Confidential</td>\n",
       "      <td>1-6 Yrs</td>\n",
       "    </tr>\n",
       "    <tr>\n",
       "      <th>2</th>\n",
       "      <td>Urgent Hiring- Expertise in Data Scientist in ...</td>\n",
       "      <td>Delhi / NCR, Gurgaon/Gurugram, Bangalore/Benga...</td>\n",
       "      <td>CLARITY CONSULTING</td>\n",
       "      <td>3-8 Yrs</td>\n",
       "    </tr>\n",
       "    <tr>\n",
       "      <th>3</th>\n",
       "      <td>Data Scientist / Chat-bot Developer</td>\n",
       "      <td>New Delhi, Bangalore/Bengaluru, Mumbai (All Ar...</td>\n",
       "      <td>Big Seo Buzz</td>\n",
       "      <td>3-7 Yrs</td>\n",
       "    </tr>\n",
       "    <tr>\n",
       "      <th>4</th>\n",
       "      <td>Data Scientist For Healthcare Product team</td>\n",
       "      <td>Delhi / NCR, Chennai, Bangalore/Bengaluru</td>\n",
       "      <td>SECUREKLOUD TECHNOLOGIES</td>\n",
       "      <td>2-7 Yrs</td>\n",
       "    </tr>\n",
       "    <tr>\n",
       "      <th>5</th>\n",
       "      <td>DigitalBCG GAMMA Data Scientist</td>\n",
       "      <td>New Delhi, Bangalore/Bengaluru</td>\n",
       "      <td>Boston Consulting Group</td>\n",
       "      <td>2-5 Yrs</td>\n",
       "    </tr>\n",
       "    <tr>\n",
       "      <th>6</th>\n",
       "      <td>Data Scientist, Associate</td>\n",
       "      <td>Delhi / NCR</td>\n",
       "      <td>NatWest Group</td>\n",
       "      <td>2-7 Yrs</td>\n",
       "    </tr>\n",
       "    <tr>\n",
       "      <th>7</th>\n",
       "      <td>Data Scientist</td>\n",
       "      <td>Gurgaon/Gurugram</td>\n",
       "      <td>AR Consultant</td>\n",
       "      <td>2-5 Yrs</td>\n",
       "    </tr>\n",
       "    <tr>\n",
       "      <th>8</th>\n",
       "      <td>Lead Data Scientist</td>\n",
       "      <td>Noida(Sector-59 Noida)\\n(WFH during Covid)</td>\n",
       "      <td>R Systems International</td>\n",
       "      <td>7-10 Yrs</td>\n",
       "    </tr>\n",
       "    <tr>\n",
       "      <th>9</th>\n",
       "      <td>Data Scientist / Sr. Data Scientist</td>\n",
       "      <td>Noida</td>\n",
       "      <td>WEGARNER SOLUTIONS PRIVATE LIMITED</td>\n",
       "      <td>2-7 Yrs</td>\n",
       "    </tr>\n",
       "  </tbody>\n",
       "</table>\n",
       "</div>"
      ],
      "text/plain": [
       "                                           job_title  \\\n",
       "0                  Data Scientist - Engine Algorithm   \n",
       "1              Data Scientist - Predictive Analytics   \n",
       "2  Urgent Hiring- Expertise in Data Scientist in ...   \n",
       "3                Data Scientist / Chat-bot Developer   \n",
       "4         Data Scientist For Healthcare Product team   \n",
       "5                    DigitalBCG GAMMA Data Scientist   \n",
       "6                          Data Scientist, Associate   \n",
       "7                                     Data Scientist   \n",
       "8                                Lead Data Scientist   \n",
       "9                Data Scientist / Sr. Data Scientist   \n",
       "\n",
       "                                        job_location  \\\n",
       "0  Delhi / NCR, Kolkata, Mumbai, Hyderabad/Secund...   \n",
       "1  Noida, Mumbai, Chandigarh, Hyderabad/Secundera...   \n",
       "2  Delhi / NCR, Gurgaon/Gurugram, Bangalore/Benga...   \n",
       "3  New Delhi, Bangalore/Bengaluru, Mumbai (All Ar...   \n",
       "4          Delhi / NCR, Chennai, Bangalore/Bengaluru   \n",
       "5                     New Delhi, Bangalore/Bengaluru   \n",
       "6                                        Delhi / NCR   \n",
       "7                                   Gurgaon/Gurugram   \n",
       "8         Noida(Sector-59 Noida)\\n(WFH during Covid)   \n",
       "9                                              Noida   \n",
       "\n",
       "                         company_name experience_required  \n",
       "0                        Primo Hiring             1-3 Yrs  \n",
       "1                        Confidential             1-6 Yrs  \n",
       "2                  CLARITY CONSULTING             3-8 Yrs  \n",
       "3                        Big Seo Buzz             3-7 Yrs  \n",
       "4            SECUREKLOUD TECHNOLOGIES             2-7 Yrs  \n",
       "5             Boston Consulting Group             2-5 Yrs  \n",
       "6                       NatWest Group             2-7 Yrs  \n",
       "7                       AR Consultant             2-5 Yrs  \n",
       "8             R Systems International            7-10 Yrs  \n",
       "9  WEGARNER SOLUTIONS PRIVATE LIMITED             2-7 Yrs  "
      ]
     },
     "execution_count": 58,
     "metadata": {},
     "output_type": "execute_result"
    }
   ],
   "source": [
    "df"
   ]
  },
  {
   "cell_type": "code",
   "execution_count": null,
   "id": "276804c1",
   "metadata": {},
   "outputs": [],
   "source": []
  },
  {
   "cell_type": "code",
   "execution_count": null,
   "id": "cb40e926",
   "metadata": {},
   "outputs": [],
   "source": []
  },
  {
   "cell_type": "markdown",
   "id": "53c5a8c2",
   "metadata": {},
   "source": [
    "#  Q4: Scrape data of first 100 sunglasses listings on flipkart.com. You have to scrape four attributes:\n",
    "1. Brand\n",
    "2. Product Description\n",
    "3. Price"
   ]
  },
  {
   "cell_type": "code",
   "execution_count": 15,
   "id": "b9ace3ab",
   "metadata": {},
   "outputs": [],
   "source": [
    "#  import all librabries\n",
    "\n",
    "import selenium\n",
    "import pandas as pd\n",
    "from selenium import webdriver\n",
    "import warnings\n",
    "warnings.filterwarnings('ignore')\n",
    "from selenium.common.exceptions import StaleElementReferenceException, NoSuchElementException\n",
    "from selenium.webdriver.common.by import By\n",
    "import time"
   ]
  },
  {
   "cell_type": "code",
   "execution_count": 16,
   "id": "efe8e845",
   "metadata": {},
   "outputs": [],
   "source": [
    "# first connect to the browser\n",
    "driver = webdriver.Chrome(r\"C:\\Users\\Dell\\Downloads\\chromedriver_win32\\chromedriver.exe\"  )"
   ]
  },
  {
   "cell_type": "code",
   "execution_count": 17,
   "id": "479e95da",
   "metadata": {},
   "outputs": [],
   "source": [
    "#opening this page from automated chrome browser\n",
    "driver.get(\"https://www.flipkart.com/\")"
   ]
  },
  {
   "cell_type": "code",
   "execution_count": 18,
   "id": "dfcdc30f",
   "metadata": {},
   "outputs": [],
   "source": [
    "#  entering product name as required in the question\n",
    "\n",
    "product=driver.find_element(By.CLASS_NAME,\"_3704LK\")\n",
    "product.send_keys('sunglasses')"
   ]
  },
  {
   "cell_type": "code",
   "execution_count": 19,
   "id": "b2ea766d",
   "metadata": {},
   "outputs": [],
   "source": [
    "search=driver.find_element(By.CLASS_NAME,\"L0Z3Pu\")\n",
    "search.click()"
   ]
  },
  {
   "cell_type": "code",
   "execution_count": 20,
   "id": "2c95b2a8",
   "metadata": {},
   "outputs": [],
   "source": [
    "brand_name = []"
   ]
  },
  {
   "cell_type": "code",
   "execution_count": 21,
   "id": "7f1e4b43",
   "metadata": {},
   "outputs": [],
   "source": [
    "start=0\n",
    "end=3\n",
    "for page in range(start,end):\n",
    "    brand=driver.find_elements(By.XPATH,\"//div[@class='_2WkVRV']\")\n",
    "    for i in brand:\n",
    "        brand_name.append(i.text)\n",
    "    next_button=driver.find_element(By.XPATH,\"//a[@class='_1LKTO3']\")   \n",
    "    next_button.click()\n",
    "    time.sleep(3)"
   ]
  },
  {
   "cell_type": "code",
   "execution_count": 22,
   "id": "d6d00479",
   "metadata": {},
   "outputs": [],
   "source": [
    "pro_description = []"
   ]
  },
  {
   "cell_type": "code",
   "execution_count": 23,
   "id": "80b8db34",
   "metadata": {},
   "outputs": [],
   "source": [
    "start=0\n",
    "end=3\n",
    "for page in range(start,end):\n",
    "    pro=driver.find_elements(By.XPATH,\"//a[@class='IRpwTa']\")\n",
    "    for i in pro:\n",
    "        pro_description.append(i.text)\n",
    "    next_button=driver.find_element(By.XPATH,\"//a[@class='_1LKTO3']\")   \n",
    "    next_button.click()\n",
    "    time.sleep(3)"
   ]
  },
  {
   "cell_type": "code",
   "execution_count": 24,
   "id": "34f8842f",
   "metadata": {},
   "outputs": [],
   "source": [
    "price_amount = []"
   ]
  },
  {
   "cell_type": "code",
   "execution_count": 25,
   "id": "b64dbda3",
   "metadata": {},
   "outputs": [],
   "source": [
    "start=0\n",
    "end=3\n",
    "for page in range(start,end):\n",
    "    price=driver.find_elements(By.XPATH,\"//div[@class='_30jeq3']\")\n",
    "    for i in price:\n",
    "        price_amount.append(i.text)\n",
    "    next_button=driver.find_element(By.XPATH,\"//a[@class='_1LKTO3']\")   \n",
    "    next_button.click()\n",
    "    time.sleep(3)"
   ]
  },
  {
   "cell_type": "code",
   "execution_count": 26,
   "id": "6e4b0aa6",
   "metadata": {},
   "outputs": [],
   "source": [
    "discount_amount = []"
   ]
  },
  {
   "cell_type": "code",
   "execution_count": 27,
   "id": "984f2e2d",
   "metadata": {},
   "outputs": [],
   "source": [
    "start=0\n",
    "end=3\n",
    "for page in range(start,end):\n",
    "    discount=driver.find_elements(By.XPATH,\"//div[@class='_3Ay6Sb']\")\n",
    "    for i in discount:\n",
    "        discount_amount.append(i.text)\n",
    "    next_button=driver.find_element(By.XPATH,\"//a[@class='_1LKTO3']\")   \n",
    "    next_button.click()\n",
    "    time.sleep(3)"
   ]
  },
  {
   "cell_type": "code",
   "execution_count": 29,
   "id": "5109eea8",
   "metadata": {},
   "outputs": [
    {
     "name": "stdout",
     "output_type": "stream",
     "text": [
      "120 120 120 120\n"
     ]
    }
   ],
   "source": [
    "print(len(brand_name),len(pro_description),len(price_amount),len(discount_amount))"
   ]
  },
  {
   "cell_type": "code",
   "execution_count": 31,
   "id": "d287a62e",
   "metadata": {},
   "outputs": [],
   "source": [
    "#  create the dataframe\n",
    "df=pd.DataFrame({'brand_name':brand_name,'pro_description':pro_description,'price_amount':price_amount,'discount_amount':discount_amount})[0:100]"
   ]
  },
  {
   "cell_type": "code",
   "execution_count": 32,
   "id": "11aba302",
   "metadata": {},
   "outputs": [
    {
     "data": {
      "text/html": [
       "<div>\n",
       "<style scoped>\n",
       "    .dataframe tbody tr th:only-of-type {\n",
       "        vertical-align: middle;\n",
       "    }\n",
       "\n",
       "    .dataframe tbody tr th {\n",
       "        vertical-align: top;\n",
       "    }\n",
       "\n",
       "    .dataframe thead th {\n",
       "        text-align: right;\n",
       "    }\n",
       "</style>\n",
       "<table border=\"1\" class=\"dataframe\">\n",
       "  <thead>\n",
       "    <tr style=\"text-align: right;\">\n",
       "      <th></th>\n",
       "      <th>brand_name</th>\n",
       "      <th>pro_description</th>\n",
       "      <th>price_amount</th>\n",
       "      <th>discount_amount</th>\n",
       "    </tr>\n",
       "  </thead>\n",
       "  <tbody>\n",
       "    <tr>\n",
       "      <th>0</th>\n",
       "      <td>Silver Kartz</td>\n",
       "      <td>by Lenskart Polarized, UV Protection Cat-eye S...</td>\n",
       "      <td>₹279</td>\n",
       "      <td>47% off</td>\n",
       "    </tr>\n",
       "    <tr>\n",
       "      <th>1</th>\n",
       "      <td>ROZZETTA CRAFT</td>\n",
       "      <td>Polarized, UV Protection Round Sunglasses (51)</td>\n",
       "      <td>₹749</td>\n",
       "      <td>77% off</td>\n",
       "    </tr>\n",
       "    <tr>\n",
       "      <th>2</th>\n",
       "      <td>PHENOMENAL</td>\n",
       "      <td>Mirrored, Night Vision Oval Sunglasses (Free S...</td>\n",
       "      <td>₹240</td>\n",
       "      <td>71% off</td>\n",
       "    </tr>\n",
       "    <tr>\n",
       "      <th>3</th>\n",
       "      <td>New Specs</td>\n",
       "      <td>Riding Glasses, Riding Glasses, UV Protection ...</td>\n",
       "      <td>₹250</td>\n",
       "      <td>80% off</td>\n",
       "    </tr>\n",
       "    <tr>\n",
       "      <th>4</th>\n",
       "      <td>Fastrack</td>\n",
       "      <td>UV Protection Round Sunglasses (52)</td>\n",
       "      <td>₹799</td>\n",
       "      <td>25% off</td>\n",
       "    </tr>\n",
       "    <tr>\n",
       "      <th>...</th>\n",
       "      <td>...</td>\n",
       "      <td>...</td>\n",
       "      <td>...</td>\n",
       "      <td>...</td>\n",
       "    </tr>\n",
       "    <tr>\n",
       "      <th>95</th>\n",
       "      <td>PIRASO</td>\n",
       "      <td>UV Protection Aviator Sunglasses (55)</td>\n",
       "      <td>₹246</td>\n",
       "      <td>84% off</td>\n",
       "    </tr>\n",
       "    <tr>\n",
       "      <th>96</th>\n",
       "      <td>Fastrack</td>\n",
       "      <td>UV Protection Aviator Sunglasses (58)</td>\n",
       "      <td>₹639</td>\n",
       "      <td>10% off</td>\n",
       "    </tr>\n",
       "    <tr>\n",
       "      <th>97</th>\n",
       "      <td>VINCENT CHASE</td>\n",
       "      <td>Polarized, UV Protection Round Sunglasses (51)</td>\n",
       "      <td>₹314</td>\n",
       "      <td>77% off</td>\n",
       "    </tr>\n",
       "    <tr>\n",
       "      <th>98</th>\n",
       "      <td>Fastrack</td>\n",
       "      <td>UV Protection Over-sized Sunglasses (65)</td>\n",
       "      <td>₹759</td>\n",
       "      <td>84% off</td>\n",
       "    </tr>\n",
       "    <tr>\n",
       "      <th>99</th>\n",
       "      <td>hipe</td>\n",
       "      <td>UV Protection Aviator Sunglasses (55)</td>\n",
       "      <td>₹169</td>\n",
       "      <td>74% off</td>\n",
       "    </tr>\n",
       "  </tbody>\n",
       "</table>\n",
       "<p>100 rows × 4 columns</p>\n",
       "</div>"
      ],
      "text/plain": [
       "        brand_name                                    pro_description  \\\n",
       "0     Silver Kartz  by Lenskart Polarized, UV Protection Cat-eye S...   \n",
       "1   ROZZETTA CRAFT     Polarized, UV Protection Round Sunglasses (51)   \n",
       "2       PHENOMENAL  Mirrored, Night Vision Oval Sunglasses (Free S...   \n",
       "3        New Specs  Riding Glasses, Riding Glasses, UV Protection ...   \n",
       "4         Fastrack                UV Protection Round Sunglasses (52)   \n",
       "..             ...                                                ...   \n",
       "95          PIRASO              UV Protection Aviator Sunglasses (55)   \n",
       "96        Fastrack              UV Protection Aviator Sunglasses (58)   \n",
       "97   VINCENT CHASE     Polarized, UV Protection Round Sunglasses (51)   \n",
       "98        Fastrack           UV Protection Over-sized Sunglasses (65)   \n",
       "99            hipe              UV Protection Aviator Sunglasses (55)   \n",
       "\n",
       "   price_amount discount_amount  \n",
       "0          ₹279         47% off  \n",
       "1          ₹749         77% off  \n",
       "2          ₹240         71% off  \n",
       "3          ₹250         80% off  \n",
       "4          ₹799         25% off  \n",
       "..          ...             ...  \n",
       "95         ₹246         84% off  \n",
       "96         ₹639         10% off  \n",
       "97         ₹314         77% off  \n",
       "98         ₹759         84% off  \n",
       "99         ₹169         74% off  \n",
       "\n",
       "[100 rows x 4 columns]"
      ]
     },
     "execution_count": 32,
     "metadata": {},
     "output_type": "execute_result"
    }
   ],
   "source": [
    "df"
   ]
  },
  {
   "cell_type": "code",
   "execution_count": null,
   "id": "6c9454da",
   "metadata": {},
   "outputs": [],
   "source": []
  },
  {
   "cell_type": "markdown",
   "id": "6732350c",
   "metadata": {},
   "source": [
    "# 5... Scrape 100 reviews data from flipkart.com for iphone11 phone.\n",
    "1. Rating\n",
    "2. Review summary\n",
    "3. Full review"
   ]
  },
  {
   "cell_type": "code",
   "execution_count": 1,
   "id": "01487191",
   "metadata": {},
   "outputs": [],
   "source": [
    "#  import all librabries\n",
    "\n",
    "import selenium\n",
    "import pandas as pd\n",
    "from selenium import webdriver\n",
    "import warnings\n",
    "warnings.filterwarnings('ignore')\n",
    "from selenium.common.exceptions import StaleElementReferenceException, NoSuchElementException\n",
    "from selenium.webdriver.common.by import By\n",
    "import time"
   ]
  },
  {
   "cell_type": "code",
   "execution_count": 2,
   "id": "2c1d45d8",
   "metadata": {},
   "outputs": [],
   "source": [
    "# first connect to the browser\n",
    "driver = webdriver.Chrome(r\"C:\\Users\\Dell\\Downloads\\chromedriver_win32\\chromedriver.exe\"  )"
   ]
  },
  {
   "cell_type": "code",
   "execution_count": 3,
   "id": "b4644d72",
   "metadata": {},
   "outputs": [],
   "source": [
    "#opening this page from automated chrome browser\n",
    "driver.get(\"https://www.flipkart.com/apple-iphone-12-black-128-gb/product-reviews/itmf1f0a58f1ecd7?pid=MOBFWBYZK3HACR72&lid=LSTMOBFWBYZK3HACR72PX4KSA&marketplace=FLIPKART \")"
   ]
  },
  {
   "cell_type": "code",
   "execution_count": 4,
   "id": "517de151",
   "metadata": {},
   "outputs": [],
   "source": [
    "#  entering product and phone name as required in the question\n",
    "\n",
    "#product=driver.find_element(By.CLASS_NAME,\"_3704LK\")\n",
    "#product.send_keys('iphone11')"
   ]
  },
  {
   "cell_type": "code",
   "execution_count": 5,
   "id": "e4f7a632",
   "metadata": {},
   "outputs": [],
   "source": [
    "#search=driver.find_element(By.CLASS_NAME,\"L0Z3Pu\")\n",
    "#search.click()"
   ]
  },
  {
   "cell_type": "code",
   "execution_count": 6,
   "id": "68f175d0",
   "metadata": {},
   "outputs": [],
   "source": [
    "#iphone=driver.find_element(By.XPATH,\"/html/body/div[1]/div/div[3]/div[1]/div[2]/div[2]/div/div/div/a/div[2]/div[1]/div[1]\")\n",
    "#iphone.click()"
   ]
  },
  {
   "cell_type": "code",
   "execution_count": null,
   "id": "625092f5",
   "metadata": {},
   "outputs": [],
   "source": [
    "#all_reviews=driver.find_element(By.XPATH,\"/html/body/div[1]/div/div[3]/div[1]/div[2]/div[9]/div[6]/div/a/div/span\")\n",
    "#all_reviews.click()"
   ]
  },
  {
   "cell_type": "code",
   "execution_count": null,
   "id": "d8f8a8d2",
   "metadata": {},
   "outputs": [],
   "source": []
  },
  {
   "cell_type": "code",
   "execution_count": null,
   "id": "0e3dc27a",
   "metadata": {},
   "outputs": [],
   "source": []
  },
  {
   "cell_type": "code",
   "execution_count": 4,
   "id": "148bad3c",
   "metadata": {},
   "outputs": [],
   "source": [
    "Rating_point = []\n",
    "Review_summary = []\n",
    "Full_review = []"
   ]
  },
  {
   "cell_type": "code",
   "execution_count": 5,
   "id": "5e1a4334",
   "metadata": {},
   "outputs": [],
   "source": [
    "start=0\n",
    "end=10\n",
    "for page in range(start,end):\n",
    "    Rating=driver.find_elements(By.XPATH,\"//div[@class='_3LWZlK _1BLPMq']\")\n",
    "    for i in Rating:\n",
    "        Rating_point.append(i.text)\n",
    "    next_button=driver.find_element(By.XPATH,\"//a[@class='_1LKTO3']\")   \n",
    "    next_button.click()\n",
    "    time.sleep(3)"
   ]
  },
  {
   "cell_type": "code",
   "execution_count": 6,
   "id": "2028e334",
   "metadata": {},
   "outputs": [],
   "source": [
    "start=0\n",
    "end=10\n",
    "for page in range(start,end):\n",
    "    Review=driver.find_elements(By.XPATH,\"//p[@class='_2-N8zT']\")\n",
    "    for i in Review:\n",
    "        Review_summary.append(i.text)\n",
    "    next_button=driver.find_element(By.XPATH,\"//a[@class='_1LKTO3']\")   \n",
    "    next_button.click()\n",
    "    time.sleep(3)"
   ]
  },
  {
   "cell_type": "code",
   "execution_count": 7,
   "id": "9d028e6e",
   "metadata": {},
   "outputs": [],
   "source": [
    "start=0\n",
    "end=10\n",
    "for page in range(start,end):\n",
    "    Full=driver.find_elements(By.XPATH,\"//div[@class='t-ZTKy']\")\n",
    "    for i in Full:\n",
    "        Full_review.append(i.text)\n",
    "    next_button=driver.find_element(By.XPATH,\"//a[@class='_1LKTO3']\")   \n",
    "    next_button.click()\n",
    "    time.sleep(3)"
   ]
  },
  {
   "cell_type": "code",
   "execution_count": 8,
   "id": "482bd8e2",
   "metadata": {},
   "outputs": [
    {
     "name": "stdout",
     "output_type": "stream",
     "text": [
      "100 100 100\n"
     ]
    }
   ],
   "source": [
    "print(len(Rating_point),len(Review_summary),len(Full_review))"
   ]
  },
  {
   "cell_type": "code",
   "execution_count": 9,
   "id": "bb48e507",
   "metadata": {},
   "outputs": [],
   "source": [
    "#  create the dataframe\n",
    "df=pd.DataFrame({'Rating_point':Rating_point,'Review_summary':Review_summary,'Full_review':Full_review})"
   ]
  },
  {
   "cell_type": "code",
   "execution_count": 10,
   "id": "6f900f90",
   "metadata": {},
   "outputs": [
    {
     "data": {
      "text/html": [
       "<div>\n",
       "<style scoped>\n",
       "    .dataframe tbody tr th:only-of-type {\n",
       "        vertical-align: middle;\n",
       "    }\n",
       "\n",
       "    .dataframe tbody tr th {\n",
       "        vertical-align: top;\n",
       "    }\n",
       "\n",
       "    .dataframe thead th {\n",
       "        text-align: right;\n",
       "    }\n",
       "</style>\n",
       "<table border=\"1\" class=\"dataframe\">\n",
       "  <thead>\n",
       "    <tr style=\"text-align: right;\">\n",
       "      <th></th>\n",
       "      <th>Rating_point</th>\n",
       "      <th>Review_summary</th>\n",
       "      <th>Full_review</th>\n",
       "    </tr>\n",
       "  </thead>\n",
       "  <tbody>\n",
       "    <tr>\n",
       "      <th>0</th>\n",
       "      <td>5</td>\n",
       "      <td>Perfect product!</td>\n",
       "      <td>The brand is very trustworthy and i got genuin...</td>\n",
       "    </tr>\n",
       "    <tr>\n",
       "      <th>1</th>\n",
       "      <td>5</td>\n",
       "      <td>Terrific</td>\n",
       "      <td>Wow superb camera phone\\nVery smooth speed and...</td>\n",
       "    </tr>\n",
       "    <tr>\n",
       "      <th>2</th>\n",
       "      <td>5</td>\n",
       "      <td>Terrific purchase</td>\n",
       "      <td>Awesome phone … value for money.. Happy with b...</td>\n",
       "    </tr>\n",
       "    <tr>\n",
       "      <th>3</th>\n",
       "      <td>5</td>\n",
       "      <td>Mind-blowing purchase</td>\n",
       "      <td>Guys ,this is just Beast at Every Aspect of Co...</td>\n",
       "    </tr>\n",
       "    <tr>\n",
       "      <th>4</th>\n",
       "      <td>5</td>\n",
       "      <td>Highly recommended</td>\n",
       "      <td>Thanx flipkart for value super sale for short ...</td>\n",
       "    </tr>\n",
       "    <tr>\n",
       "      <th>...</th>\n",
       "      <td>...</td>\n",
       "      <td>...</td>\n",
       "      <td>...</td>\n",
       "    </tr>\n",
       "    <tr>\n",
       "      <th>95</th>\n",
       "      <td>5</td>\n",
       "      <td>Terrific</td>\n",
       "      <td>This was an awesome buy. I bought this phone f...</td>\n",
       "    </tr>\n",
       "    <tr>\n",
       "      <th>96</th>\n",
       "      <td>5</td>\n",
       "      <td>Brilliant</td>\n",
       "      <td>Excellent product worth every penny right this...</td>\n",
       "    </tr>\n",
       "    <tr>\n",
       "      <th>97</th>\n",
       "      <td>5</td>\n",
       "      <td>Just wow!</td>\n",
       "      <td>iPhone 6S Plus 64GB -&gt; iPhone 12 128GB\\nMy 2nd...</td>\n",
       "    </tr>\n",
       "    <tr>\n",
       "      <th>98</th>\n",
       "      <td>4</td>\n",
       "      <td>Pretty good</td>\n",
       "      <td>I bought this iphone 12 in big billion days an...</td>\n",
       "    </tr>\n",
       "    <tr>\n",
       "      <th>99</th>\n",
       "      <td>5</td>\n",
       "      <td>Awesome</td>\n",
       "      <td>Switched from Android to iPhone and this trans...</td>\n",
       "    </tr>\n",
       "  </tbody>\n",
       "</table>\n",
       "<p>100 rows × 3 columns</p>\n",
       "</div>"
      ],
      "text/plain": [
       "   Rating_point         Review_summary  \\\n",
       "0             5       Perfect product!   \n",
       "1             5               Terrific   \n",
       "2             5      Terrific purchase   \n",
       "3             5  Mind-blowing purchase   \n",
       "4             5     Highly recommended   \n",
       "..          ...                    ...   \n",
       "95            5               Terrific   \n",
       "96            5              Brilliant   \n",
       "97            5              Just wow!   \n",
       "98            4            Pretty good   \n",
       "99            5                Awesome   \n",
       "\n",
       "                                          Full_review  \n",
       "0   The brand is very trustworthy and i got genuin...  \n",
       "1   Wow superb camera phone\\nVery smooth speed and...  \n",
       "2   Awesome phone … value for money.. Happy with b...  \n",
       "3   Guys ,this is just Beast at Every Aspect of Co...  \n",
       "4   Thanx flipkart for value super sale for short ...  \n",
       "..                                                ...  \n",
       "95  This was an awesome buy. I bought this phone f...  \n",
       "96  Excellent product worth every penny right this...  \n",
       "97  iPhone 6S Plus 64GB -> iPhone 12 128GB\\nMy 2nd...  \n",
       "98  I bought this iphone 12 in big billion days an...  \n",
       "99  Switched from Android to iPhone and this trans...  \n",
       "\n",
       "[100 rows x 3 columns]"
      ]
     },
     "execution_count": 10,
     "metadata": {},
     "output_type": "execute_result"
    }
   ],
   "source": [
    "df"
   ]
  },
  {
   "cell_type": "code",
   "execution_count": null,
   "id": "d3cf73ac",
   "metadata": {},
   "outputs": [],
   "source": [
    "#this programme \"URL\" gives by  \"MOhd.kashif \"sir....he said this to mention."
   ]
  },
  {
   "cell_type": "code",
   "execution_count": null,
   "id": "30c6ea6b",
   "metadata": {},
   "outputs": [],
   "source": []
  },
  {
   "cell_type": "markdown",
   "id": "56d6d2aa",
   "metadata": {},
   "source": [
    "# Q6: Scrape data for first 100 sneakers you find when you visit flipkart.com \n",
    "You have to scrape 4 attributes of each sneaker:\n",
    "1. Brand\n",
    "2. Product Description\n",
    "3. Price"
   ]
  },
  {
   "cell_type": "code",
   "execution_count": 1,
   "id": "06b6d263",
   "metadata": {},
   "outputs": [],
   "source": [
    "#  import all librabries\n",
    "\n",
    "import selenium\n",
    "import pandas as pd\n",
    "from selenium import webdriver\n",
    "import warnings\n",
    "warnings.filterwarnings('ignore')\n",
    "from selenium.common.exceptions import StaleElementReferenceException, NoSuchElementException\n",
    "from selenium.webdriver.common.by import By\n",
    "import time"
   ]
  },
  {
   "cell_type": "code",
   "execution_count": 2,
   "id": "fcd14f6d",
   "metadata": {},
   "outputs": [],
   "source": [
    "# first connect to the browser\n",
    "driver = webdriver.Chrome(r\"C:\\Users\\Dell\\Downloads\\chromedriver_win32\\chromedriver.exe\"  )"
   ]
  },
  {
   "cell_type": "code",
   "execution_count": 3,
   "id": "9d55744d",
   "metadata": {},
   "outputs": [],
   "source": [
    "#opening this page from automated chrome browser\n",
    "driver.get(\"https://www.flipkart.com/\")"
   ]
  },
  {
   "cell_type": "code",
   "execution_count": 4,
   "id": "bc09316c",
   "metadata": {},
   "outputs": [],
   "source": [
    "#  entering product and search as required in the question\n",
    "\n",
    "product=driver.find_element(By.CLASS_NAME,\"_3704LK\")\n",
    "product.send_keys('sneakers')"
   ]
  },
  {
   "cell_type": "code",
   "execution_count": 5,
   "id": "7edec6e8",
   "metadata": {},
   "outputs": [],
   "source": [
    "search=driver.find_element(By.CLASS_NAME,\"L0Z3Pu\")\n",
    "search.click()"
   ]
  },
  {
   "cell_type": "code",
   "execution_count": null,
   "id": "67009267",
   "metadata": {},
   "outputs": [],
   "source": []
  },
  {
   "cell_type": "code",
   "execution_count": 6,
   "id": "30501eb7",
   "metadata": {},
   "outputs": [],
   "source": [
    "brand_name = []"
   ]
  },
  {
   "cell_type": "code",
   "execution_count": 7,
   "id": "415db960",
   "metadata": {},
   "outputs": [],
   "source": [
    "start=0\n",
    "end=3\n",
    "for page in range(start,end):\n",
    "    brand=driver.find_elements(By.XPATH,\"//div[@class='_2WkVRV']\")\n",
    "    for i in brand:\n",
    "        brand_name.append(i.text)\n",
    "    next_button=driver.find_elements(By.XPATH,\"//a[@class='_1LKTO3']\")#scraping the list of buttons from the page\n",
    "\n",
    "    try:\n",
    "\n",
    "        driver.get(next_button[1].get_attribute('href'))#getting the link from the list for next page\n",
    "\n",
    "    except:\n",
    "\n",
    "        driver.get(next_button[0].get_attribute('href'))   "
   ]
  },
  {
   "cell_type": "code",
   "execution_count": 17,
   "id": "dcfcfc6f",
   "metadata": {},
   "outputs": [
    {
     "data": {
      "text/plain": [
       "120"
      ]
     },
     "execution_count": 17,
     "metadata": {},
     "output_type": "execute_result"
    }
   ],
   "source": [
    "len(brand_name)"
   ]
  },
  {
   "cell_type": "code",
   "execution_count": 18,
   "id": "43bcbc81",
   "metadata": {},
   "outputs": [],
   "source": [
    "description_des = []\n",
    "\n",
    "#des=[] \n",
    "\n",
    "#for i in driver.find_elements(By.XPATH,\"//div[@class='_2B099V']/a\"):\n",
    "\n",
    "        #description.append(i.text)\n",
    "\n",
    "#for i in range(0,len(description),1):\n",
    "\n",
    "        #des.append(description[i])\n",
    "start=0\n",
    "end=3\n",
    "for page in range(start,end):\n",
    "    description=driver.find_elements(By.XPATH,\"//a[@class='IRpwTa']\")\n",
    "    for i in description:\n",
    "        description_des.append(i.text)\n",
    "        \n",
    "next_button=driver.find_elements(By.XPATH,\"//a[@class='_1LKTO3']\")#scraping the list of buttons from the page\n",
    "\n",
    "try:\n",
    "\n",
    "        driver.get(next_button[1].get_attribute('href'))#getting the link from the list for next page\n",
    "\n",
    "except:\n",
    "\n",
    "        driver.get(next_button[0].get_attribute('href'))   "
   ]
  },
  {
   "cell_type": "code",
   "execution_count": 19,
   "id": "d247855f",
   "metadata": {},
   "outputs": [
    {
     "name": "stdout",
     "output_type": "stream",
     "text": [
      "111\n"
     ]
    }
   ],
   "source": [
    "print(len(description_des))"
   ]
  },
  {
   "cell_type": "code",
   "execution_count": 20,
   "id": "f0a1d6a4",
   "metadata": {},
   "outputs": [],
   "source": [
    "price_amount = []"
   ]
  },
  {
   "cell_type": "code",
   "execution_count": 21,
   "id": "98d4945a",
   "metadata": {},
   "outputs": [],
   "source": [
    "start=0\n",
    "end=3\n",
    "for page in range(start,end):\n",
    "    price=driver.find_elements(By.XPATH,\"//div[@class='_30jeq3']\")\n",
    "    for i in price:\n",
    "        price_amount.append(i.text)\n",
    "next_button=driver.find_elements(By.XPATH,\"//a[@class='_1LKTO3']\")#scraping the list of buttons from the page\n",
    "\n",
    "try:\n",
    "\n",
    "        driver.get(next_button[1].get_attribute('href'))#getting the link from the list for next page\n",
    "\n",
    "except:\n",
    "\n",
    "        driver.get(next_button[0].get_attribute('href'))      "
   ]
  },
  {
   "cell_type": "code",
   "execution_count": 22,
   "id": "004d39b3",
   "metadata": {},
   "outputs": [
    {
     "name": "stdout",
     "output_type": "stream",
     "text": [
      "120 111 120\n"
     ]
    }
   ],
   "source": [
    "print(len(brand_name),len(description_des),len(price_amount))"
   ]
  },
  {
   "cell_type": "code",
   "execution_count": 23,
   "id": "1b157f5e",
   "metadata": {},
   "outputs": [
    {
     "data": {
      "text/html": [
       "<div>\n",
       "<style scoped>\n",
       "    .dataframe tbody tr th:only-of-type {\n",
       "        vertical-align: middle;\n",
       "    }\n",
       "\n",
       "    .dataframe tbody tr th {\n",
       "        vertical-align: top;\n",
       "    }\n",
       "\n",
       "    .dataframe thead th {\n",
       "        text-align: right;\n",
       "    }\n",
       "</style>\n",
       "<table border=\"1\" class=\"dataframe\">\n",
       "  <thead>\n",
       "    <tr style=\"text-align: right;\">\n",
       "      <th></th>\n",
       "      <th>brand_name</th>\n",
       "      <th>description_des</th>\n",
       "      <th>price_amount</th>\n",
       "    </tr>\n",
       "  </thead>\n",
       "  <tbody>\n",
       "    <tr>\n",
       "      <th>0</th>\n",
       "      <td>World Wear Footwear</td>\n",
       "      <td>Latest Exclusive Affordable Collection of Tren...</td>\n",
       "      <td>₹649</td>\n",
       "    </tr>\n",
       "    <tr>\n",
       "      <th>1</th>\n",
       "      <td>BIRDE</td>\n",
       "      <td>Premium Sneakers For Men Sneakers For Men</td>\n",
       "      <td>₹450</td>\n",
       "    </tr>\n",
       "    <tr>\n",
       "      <th>2</th>\n",
       "      <td>Labbin</td>\n",
       "      <td>Sneaker Sneakers For Men</td>\n",
       "      <td>₹399</td>\n",
       "    </tr>\n",
       "    <tr>\n",
       "      <th>3</th>\n",
       "      <td>TR</td>\n",
       "      <td>Sneakers For Men</td>\n",
       "      <td>₹394</td>\n",
       "    </tr>\n",
       "    <tr>\n",
       "      <th>4</th>\n",
       "      <td>Shozie</td>\n",
       "      <td>Black Lightweight Casual Trendy Sneaker For Me...</td>\n",
       "      <td>₹3,133</td>\n",
       "    </tr>\n",
       "    <tr>\n",
       "      <th>...</th>\n",
       "      <td>...</td>\n",
       "      <td>...</td>\n",
       "      <td>...</td>\n",
       "    </tr>\n",
       "    <tr>\n",
       "      <th>95</th>\n",
       "      <td>Hida</td>\n",
       "      <td>Sneakers For Men</td>\n",
       "      <td>₹379</td>\n",
       "    </tr>\n",
       "    <tr>\n",
       "      <th>96</th>\n",
       "      <td>Scull Wings</td>\n",
       "      <td>SD0323G -Canvas Shoes For Men- (White, Black) ...</td>\n",
       "      <td>₹539</td>\n",
       "    </tr>\n",
       "    <tr>\n",
       "      <th>97</th>\n",
       "      <td>RapidBox</td>\n",
       "      <td>Smash L Sneakers For Men</td>\n",
       "      <td>₹376</td>\n",
       "    </tr>\n",
       "    <tr>\n",
       "      <th>98</th>\n",
       "      <td>BIRDE</td>\n",
       "      <td>casual shoe for men Sneakers For Men</td>\n",
       "      <td>₹499</td>\n",
       "    </tr>\n",
       "    <tr>\n",
       "      <th>99</th>\n",
       "      <td>BIRDE</td>\n",
       "      <td>Casual , Partywear Sneakers Shoes For Men's An...</td>\n",
       "      <td>₹654</td>\n",
       "    </tr>\n",
       "  </tbody>\n",
       "</table>\n",
       "<p>100 rows × 3 columns</p>\n",
       "</div>"
      ],
      "text/plain": [
       "             brand_name                                    description_des  \\\n",
       "0   World Wear Footwear  Latest Exclusive Affordable Collection of Tren...   \n",
       "1                 BIRDE          Premium Sneakers For Men Sneakers For Men   \n",
       "2                Labbin                           Sneaker Sneakers For Men   \n",
       "3                    TR                                   Sneakers For Men   \n",
       "4                Shozie  Black Lightweight Casual Trendy Sneaker For Me...   \n",
       "..                  ...                                                ...   \n",
       "95                 Hida                                   Sneakers For Men   \n",
       "96          Scull Wings  SD0323G -Canvas Shoes For Men- (White, Black) ...   \n",
       "97             RapidBox                           Smash L Sneakers For Men   \n",
       "98                BIRDE               casual shoe for men Sneakers For Men   \n",
       "99                BIRDE  Casual , Partywear Sneakers Shoes For Men's An...   \n",
       "\n",
       "   price_amount  \n",
       "0          ₹649  \n",
       "1          ₹450  \n",
       "2          ₹399  \n",
       "3          ₹394  \n",
       "4        ₹3,133  \n",
       "..          ...  \n",
       "95         ₹379  \n",
       "96         ₹539  \n",
       "97         ₹376  \n",
       "98         ₹499  \n",
       "99         ₹654  \n",
       "\n",
       "[100 rows x 3 columns]"
      ]
     },
     "execution_count": 23,
     "metadata": {},
     "output_type": "execute_result"
    }
   ],
   "source": [
    "data = zip(brand_name,description_des,price_amount)\n",
    "df = pd.DataFrame(data,columns=[\"brand_name\",\"description_des\",\"price_amount\"])[0:100]\n",
    "df"
   ]
  },
  {
   "cell_type": "code",
   "execution_count": null,
   "id": "782606e8",
   "metadata": {},
   "outputs": [],
   "source": []
  },
  {
   "cell_type": "code",
   "execution_count": null,
   "id": "01a4895d",
   "metadata": {},
   "outputs": [],
   "source": []
  },
  {
   "cell_type": "markdown",
   "id": "b8904d49",
   "metadata": {},
   "source": [
    "# 7....Go to the link - https://www.myntra.com/shoes\n",
    "\n",
    "Set second Price filter and Color filter to “Black”,"
   ]
  },
  {
   "cell_type": "code",
   "execution_count": 1,
   "id": "4c89eaad",
   "metadata": {},
   "outputs": [],
   "source": [
    "#  import all librabries\n",
    "\n",
    "import selenium\n",
    "import pandas as pd\n",
    "from selenium import webdriver\n",
    "import warnings\n",
    "warnings.filterwarnings('ignore')\n",
    "from selenium.common.exceptions import StaleElementReferenceException, NoSuchElementException\n",
    "from selenium.webdriver.common.by import By\n",
    "import time"
   ]
  },
  {
   "cell_type": "code",
   "execution_count": 2,
   "id": "a7fc5781",
   "metadata": {},
   "outputs": [],
   "source": [
    "# first connect to the browser\n",
    "driver = webdriver.Chrome(r\"C:\\Users\\Dell\\Downloads\\chromedriver_win32\\chromedriver.exe\"  )"
   ]
  },
  {
   "cell_type": "code",
   "execution_count": 3,
   "id": "2a010be4",
   "metadata": {},
   "outputs": [],
   "source": [
    "#opening this page from automated chrome browser\n",
    "driver.get(\" https://www.myntra.com/shoes\")"
   ]
  },
  {
   "cell_type": "code",
   "execution_count": 4,
   "id": "56347d04",
   "metadata": {},
   "outputs": [],
   "source": [
    "# filter the price\n",
    "Price=driver.find_element(By.XPATH,\"/html/body/div[2]/div/div[1]/main/div[3]/div[1]/section/div/div[5]/ul/li[2]/label\")\n",
    "Price.click()"
   ]
  },
  {
   "cell_type": "code",
   "execution_count": 5,
   "id": "43d36db6",
   "metadata": {},
   "outputs": [],
   "source": [
    "# filter the colour according the question\n",
    "Color=driver.find_element(By.XPATH,\"/html/body/div[2]/div/div[1]/main/div[3]/div[1]/section/div/div[6]/ul/li[1]/label\")\n",
    "Color.click()"
   ]
  },
  {
   "cell_type": "code",
   "execution_count": 6,
   "id": "2bcae20d",
   "metadata": {},
   "outputs": [],
   "source": [
    "brand_name = []"
   ]
  },
  {
   "cell_type": "code",
   "execution_count": 7,
   "id": "6d57d655",
   "metadata": {},
   "outputs": [],
   "source": [
    "start=0\n",
    "end=2\n",
    "for page in range(start,end):\n",
    "    brand=driver.find_elements(By.XPATH,\"//h3[@class='product-brand']\")\n",
    "    for i in brand:\n",
    "        brand_name.append(i.text)\n",
    "    next_button=driver.find_element(By.XPATH,\"//li[@class='pagination-next']\")   \n",
    "    next_button.click()\n",
    "    time.sleep(3)"
   ]
  },
  {
   "cell_type": "code",
   "execution_count": 8,
   "id": "bdc89d75",
   "metadata": {},
   "outputs": [],
   "source": [
    "des_product = []"
   ]
  },
  {
   "cell_type": "code",
   "execution_count": 9,
   "id": "2735f973",
   "metadata": {},
   "outputs": [],
   "source": [
    "start=0\n",
    "end=2\n",
    "for page in range(start,end):\n",
    "    des=driver.find_elements(By.XPATH,\"//h4[@class='product-product']\")\n",
    "    for i in des:\n",
    "        des_product.append(i.text)\n",
    "    next_button=driver.find_element(By.XPATH,\"//li[@class='pagination-next']\")   \n",
    "    next_button.click()\n",
    "    time.sleep(3)"
   ]
  },
  {
   "cell_type": "code",
   "execution_count": 10,
   "id": "4f83d3c3",
   "metadata": {},
   "outputs": [],
   "source": [
    "price_amount = []"
   ]
  },
  {
   "cell_type": "code",
   "execution_count": 11,
   "id": "3bff309e",
   "metadata": {},
   "outputs": [],
   "source": [
    "start=0\n",
    "end=2\n",
    "for page in range(start,end):\n",
    "    price=driver.find_elements(By.XPATH,\"//div[@class='product-price']\")\n",
    "    for i in price:\n",
    "        price_amount.append(i.text)\n",
    "    next_button=driver.find_element(By.XPATH,\"//li[@class='pagination-next']\")   \n",
    "    next_button.click()\n",
    "    time.sleep(3)"
   ]
  },
  {
   "cell_type": "code",
   "execution_count": 12,
   "id": "9f0d8b63",
   "metadata": {},
   "outputs": [
    {
     "name": "stdout",
     "output_type": "stream",
     "text": [
      "100 100 100\n"
     ]
    }
   ],
   "source": [
    "# print all length\n",
    "\n",
    "print(len(brand_name),len(des_product),len(price_amount))"
   ]
  },
  {
   "cell_type": "code",
   "execution_count": 13,
   "id": "9cce8bf2",
   "metadata": {},
   "outputs": [],
   "source": [
    "#  create the dataframe\n",
    "df=pd.DataFrame({'brand_name':brand_name,'des_product':des_product,'price_amount':price_amount})"
   ]
  },
  {
   "cell_type": "code",
   "execution_count": 14,
   "id": "a7ff3989",
   "metadata": {},
   "outputs": [
    {
     "data": {
      "text/html": [
       "<div>\n",
       "<style scoped>\n",
       "    .dataframe tbody tr th:only-of-type {\n",
       "        vertical-align: middle;\n",
       "    }\n",
       "\n",
       "    .dataframe tbody tr th {\n",
       "        vertical-align: top;\n",
       "    }\n",
       "\n",
       "    .dataframe thead th {\n",
       "        text-align: right;\n",
       "    }\n",
       "</style>\n",
       "<table border=\"1\" class=\"dataframe\">\n",
       "  <thead>\n",
       "    <tr style=\"text-align: right;\">\n",
       "      <th></th>\n",
       "      <th>brand_name</th>\n",
       "      <th>des_product</th>\n",
       "      <th>price_amount</th>\n",
       "    </tr>\n",
       "  </thead>\n",
       "  <tbody>\n",
       "    <tr>\n",
       "      <th>0</th>\n",
       "      <td>Nike</td>\n",
       "      <td>Women Arch Fit Slip-On Sneaker</td>\n",
       "      <td>Rs. 8599</td>\n",
       "    </tr>\n",
       "    <tr>\n",
       "      <th>1</th>\n",
       "      <td>ADIDAS Originals</td>\n",
       "      <td></td>\n",
       "      <td>Rs. 9599</td>\n",
       "    </tr>\n",
       "    <tr>\n",
       "      <th>2</th>\n",
       "      <td>Bugatti</td>\n",
       "      <td>Men Slip-On Sneakers</td>\n",
       "      <td>Rs. 7999</td>\n",
       "    </tr>\n",
       "    <tr>\n",
       "      <th>3</th>\n",
       "      <td>Skechers</td>\n",
       "      <td>Women Solar Glide 5 Running</td>\n",
       "      <td>Rs. 11999</td>\n",
       "    </tr>\n",
       "    <tr>\n",
       "      <th>4</th>\n",
       "      <td>PUMA Motorsport</td>\n",
       "      <td>Men Textured Sneakers</td>\n",
       "      <td>Rs. 7999</td>\n",
       "    </tr>\n",
       "    <tr>\n",
       "      <th>...</th>\n",
       "      <td>...</td>\n",
       "      <td>...</td>\n",
       "      <td>...</td>\n",
       "    </tr>\n",
       "    <tr>\n",
       "      <th>95</th>\n",
       "      <td>Saint G</td>\n",
       "      <td>Men Slip-On Sneakers</td>\n",
       "      <td>Rs. 10400</td>\n",
       "    </tr>\n",
       "    <tr>\n",
       "      <th>96</th>\n",
       "      <td>Geox</td>\n",
       "      <td>Women Superstar Sneakers</td>\n",
       "      <td>Rs. 9990</td>\n",
       "    </tr>\n",
       "    <tr>\n",
       "      <th>97</th>\n",
       "      <td>fitflop</td>\n",
       "      <td>Women NMD_R1 Ease Sneakers</td>\n",
       "      <td>Rs. 8490</td>\n",
       "    </tr>\n",
       "    <tr>\n",
       "      <th>98</th>\n",
       "      <td>ALDO</td>\n",
       "      <td>Kitten Pumps Heels</td>\n",
       "      <td>Rs. 9405Rs. 9900(5% OFF)</td>\n",
       "    </tr>\n",
       "    <tr>\n",
       "      <th>99</th>\n",
       "      <td>Tommy Hilfiger</td>\n",
       "      <td>Men Golf Shoes</td>\n",
       "      <td>Rs. 10355Rs. 10900(5% OFF)</td>\n",
       "    </tr>\n",
       "  </tbody>\n",
       "</table>\n",
       "<p>100 rows × 3 columns</p>\n",
       "</div>"
      ],
      "text/plain": [
       "          brand_name                     des_product  \\\n",
       "0               Nike  Women Arch Fit Slip-On Sneaker   \n",
       "1   ADIDAS Originals                                   \n",
       "2            Bugatti            Men Slip-On Sneakers   \n",
       "3           Skechers     Women Solar Glide 5 Running   \n",
       "4    PUMA Motorsport           Men Textured Sneakers   \n",
       "..               ...                             ...   \n",
       "95           Saint G            Men Slip-On Sneakers   \n",
       "96              Geox        Women Superstar Sneakers   \n",
       "97           fitflop      Women NMD_R1 Ease Sneakers   \n",
       "98              ALDO              Kitten Pumps Heels   \n",
       "99    Tommy Hilfiger                  Men Golf Shoes   \n",
       "\n",
       "                  price_amount  \n",
       "0                     Rs. 8599  \n",
       "1                     Rs. 9599  \n",
       "2                     Rs. 7999  \n",
       "3                    Rs. 11999  \n",
       "4                     Rs. 7999  \n",
       "..                         ...  \n",
       "95                   Rs. 10400  \n",
       "96                    Rs. 9990  \n",
       "97                    Rs. 8490  \n",
       "98    Rs. 9405Rs. 9900(5% OFF)  \n",
       "99  Rs. 10355Rs. 10900(5% OFF)  \n",
       "\n",
       "[100 rows x 3 columns]"
      ]
     },
     "execution_count": 14,
     "metadata": {},
     "output_type": "execute_result"
    }
   ],
   "source": [
    "df"
   ]
  },
  {
   "cell_type": "code",
   "execution_count": null,
   "id": "b5de21d6",
   "metadata": {},
   "outputs": [],
   "source": []
  },
  {
   "cell_type": "markdown",
   "id": "4efe83b5",
   "metadata": {},
   "source": [
    "# Q8: Go to webpage https://www.amazon.in/ scrap the data intel i7\n",
    "1. Title\n",
    "2. Ratings\n",
    "3. Price"
   ]
  },
  {
   "cell_type": "code",
   "execution_count": 16,
   "id": "8f12b435",
   "metadata": {},
   "outputs": [],
   "source": [
    "#  import all librabries\n",
    "\n",
    "import selenium\n",
    "import pandas as pd\n",
    "from selenium import webdriver\n",
    "import warnings\n",
    "warnings.filterwarnings('ignore')\n",
    "from selenium.common.exceptions import StaleElementReferenceException, NoSuchElementException\n",
    "from selenium.webdriver.common.by import By\n",
    "import time"
   ]
  },
  {
   "cell_type": "code",
   "execution_count": 17,
   "id": "72335186",
   "metadata": {},
   "outputs": [],
   "source": [
    "# first connect to the browser\n",
    "driver = webdriver.Chrome(r\"C:\\Users\\Dell\\Downloads\\chromedriver_win32\\chromedriver.exe\"  )"
   ]
  },
  {
   "cell_type": "code",
   "execution_count": 18,
   "id": "e002e5cd",
   "metadata": {},
   "outputs": [],
   "source": [
    "#opening this page from automated chrome browser\n",
    "driver.get(\" https://www.amazon.in/ \")"
   ]
  },
  {
   "cell_type": "code",
   "execution_count": 19,
   "id": "a2caedd1",
   "metadata": {},
   "outputs": [],
   "source": [
    "#  entering product name as required in the question\n",
    "\n",
    "product=driver.find_element(By.XPATH,\" /html/body/div[1]/header/div/div[1]/div[2]/div/form/div[2]/div[1]/input\")\n",
    "product.send_keys('Laptop')"
   ]
  },
  {
   "cell_type": "code",
   "execution_count": 20,
   "id": "ba968eb2",
   "metadata": {},
   "outputs": [],
   "source": [
    "search=driver.find_element(By.CLASS_NAME,\"nav-right\")\n",
    "search.click()"
   ]
  },
  {
   "cell_type": "code",
   "execution_count": 21,
   "id": "d73111d3",
   "metadata": {},
   "outputs": [],
   "source": [
    "# filter the CPU\n",
    "CPU=driver.find_element(By.XPATH,\"/html/body/div[1]/div[2]/div[1]/div[2]/div/div[3]/span/div[1]/div/div/div[5]/ul[5]/li[12]/span/a/span\")\n",
    "CPU.click()"
   ]
  },
  {
   "cell_type": "code",
   "execution_count": 25,
   "id": "dd6e8899",
   "metadata": {},
   "outputs": [],
   "source": [
    "Ratings_point = []"
   ]
  },
  {
   "cell_type": "code",
   "execution_count": 26,
   "id": "583d0f91",
   "metadata": {},
   "outputs": [],
   "source": [
    "Ratings_tags=driver.find_elements(By.XPATH,\"//a[@class='a-popover-trigger a-declarative']\")\n",
    "for i in Ratings_tags[0:10]:\n",
    "    Ratings=i.text\n",
    "    Ratings_point.append(Ratings)"
   ]
  },
  {
   "cell_type": "code",
   "execution_count": 27,
   "id": "82b5bb22",
   "metadata": {},
   "outputs": [
    {
     "data": {
      "text/plain": [
       "10"
      ]
     },
     "execution_count": 27,
     "metadata": {},
     "output_type": "execute_result"
    }
   ],
   "source": [
    "len(Ratings_point)"
   ]
  },
  {
   "cell_type": "code",
   "execution_count": null,
   "id": "6ab8d9fb",
   "metadata": {},
   "outputs": [],
   "source": []
  },
  {
   "cell_type": "code",
   "execution_count": 28,
   "id": "32cc34f5",
   "metadata": {},
   "outputs": [],
   "source": [
    "Title_brand = []\n",
    "Price_amount = []"
   ]
  },
  {
   "cell_type": "code",
   "execution_count": 29,
   "id": "9f41fd78",
   "metadata": {},
   "outputs": [],
   "source": [
    "#  scraping title from given page\n",
    "Title_tags=driver.find_elements(By.XPATH,'//h2[@class=\"a-size-mini a-spacing-none a-color-base s-line-clamp-2\"]')\n",
    "for i in Title_tags[0:10]:\n",
    "    Title=i.text\n",
    "    Title_brand.append(Title)\n",
    "    \n",
    "#  scraping Rating point from given page\n",
    "\n",
    "    \n",
    "#  scraping price from given page\n",
    "Price_tags=driver.find_elements(By.XPATH,\"//span[@class='a-price-whole']\")\n",
    "for i in Price_tags[0:10]:\n",
    "    Price=i.text\n",
    "    Price_amount.append(Price)\n",
    "    "
   ]
  },
  {
   "cell_type": "code",
   "execution_count": 30,
   "id": "5d1af306",
   "metadata": {},
   "outputs": [
    {
     "name": "stdout",
     "output_type": "stream",
     "text": [
      "10 10 10\n"
     ]
    }
   ],
   "source": [
    "print(len(Title_brand),len(Ratings_point),len(Price_amount))"
   ]
  },
  {
   "cell_type": "code",
   "execution_count": 31,
   "id": "fc948ffa",
   "metadata": {},
   "outputs": [],
   "source": [
    "#  create the dataframe\n",
    "df=pd.DataFrame({'Title_brand':Title_brand,'Ratings_point':Ratings_point,'Price_amount':Price_amount})"
   ]
  },
  {
   "cell_type": "code",
   "execution_count": 32,
   "id": "69c0838c",
   "metadata": {},
   "outputs": [
    {
     "data": {
      "text/html": [
       "<div>\n",
       "<style scoped>\n",
       "    .dataframe tbody tr th:only-of-type {\n",
       "        vertical-align: middle;\n",
       "    }\n",
       "\n",
       "    .dataframe tbody tr th {\n",
       "        vertical-align: top;\n",
       "    }\n",
       "\n",
       "    .dataframe thead th {\n",
       "        text-align: right;\n",
       "    }\n",
       "</style>\n",
       "<table border=\"1\" class=\"dataframe\">\n",
       "  <thead>\n",
       "    <tr style=\"text-align: right;\">\n",
       "      <th></th>\n",
       "      <th>Title_brand</th>\n",
       "      <th>Ratings_point</th>\n",
       "      <th>Price_amount</th>\n",
       "    </tr>\n",
       "  </thead>\n",
       "  <tbody>\n",
       "    <tr>\n",
       "      <th>0</th>\n",
       "      <td>Dell Inspiron 3521 Laptop, Intel PQC-N5030, Wi...</td>\n",
       "      <td></td>\n",
       "      <td>31,490</td>\n",
       "    </tr>\n",
       "    <tr>\n",
       "      <th>1</th>\n",
       "      <td>ASUS VivoBook 14 (2021), 14-inch (35.56 cm) HD...</td>\n",
       "      <td></td>\n",
       "      <td>28,990</td>\n",
       "    </tr>\n",
       "    <tr>\n",
       "      <th>2</th>\n",
       "      <td>Dell Inspiron 3502 15.6 inches(39cm) HD Displa...</td>\n",
       "      <td></td>\n",
       "      <td>34,800</td>\n",
       "    </tr>\n",
       "    <tr>\n",
       "      <th>3</th>\n",
       "      <td>Acer Travelmate Intel® Pentium® Gold 7505 Proc...</td>\n",
       "      <td></td>\n",
       "      <td>24,490</td>\n",
       "    </tr>\n",
       "    <tr>\n",
       "      <th>4</th>\n",
       "      <td>Acer Extensa 15 Thin &amp; Light Intel Processor P...</td>\n",
       "      <td></td>\n",
       "      <td>24,990</td>\n",
       "    </tr>\n",
       "    <tr>\n",
       "      <th>5</th>\n",
       "      <td>Acer Aspire 3 Laptop (Made in India) A314-35 3...</td>\n",
       "      <td></td>\n",
       "      <td>28,490</td>\n",
       "    </tr>\n",
       "    <tr>\n",
       "      <th>6</th>\n",
       "      <td>Hp 14S-Intel Pentium Silver N6000- 8Gb Ram/256...</td>\n",
       "      <td></td>\n",
       "      <td>29,999</td>\n",
       "    </tr>\n",
       "    <tr>\n",
       "      <th>7</th>\n",
       "      <td>Microsoft Surface GO 3 Black Intel Pentium T66...</td>\n",
       "      <td></td>\n",
       "      <td>57,990</td>\n",
       "    </tr>\n",
       "    <tr>\n",
       "      <th>8</th>\n",
       "      <td>ASUS Windows 11 Home VivoBook 13 Slate OLED, I...</td>\n",
       "      <td></td>\n",
       "      <td>51,421</td>\n",
       "    </tr>\n",
       "    <tr>\n",
       "      <th>9</th>\n",
       "      <td>Acer Extensa 15 Intel Processor Pentium Silver...</td>\n",
       "      <td></td>\n",
       "      <td>25,919</td>\n",
       "    </tr>\n",
       "  </tbody>\n",
       "</table>\n",
       "</div>"
      ],
      "text/plain": [
       "                                         Title_brand Ratings_point  \\\n",
       "0  Dell Inspiron 3521 Laptop, Intel PQC-N5030, Wi...                 \n",
       "1  ASUS VivoBook 14 (2021), 14-inch (35.56 cm) HD...                 \n",
       "2  Dell Inspiron 3502 15.6 inches(39cm) HD Displa...                 \n",
       "3  Acer Travelmate Intel® Pentium® Gold 7505 Proc...                 \n",
       "4  Acer Extensa 15 Thin & Light Intel Processor P...                 \n",
       "5  Acer Aspire 3 Laptop (Made in India) A314-35 3...                 \n",
       "6  Hp 14S-Intel Pentium Silver N6000- 8Gb Ram/256...                 \n",
       "7  Microsoft Surface GO 3 Black Intel Pentium T66...                 \n",
       "8  ASUS Windows 11 Home VivoBook 13 Slate OLED, I...                 \n",
       "9  Acer Extensa 15 Intel Processor Pentium Silver...                 \n",
       "\n",
       "  Price_amount  \n",
       "0       31,490  \n",
       "1       28,990  \n",
       "2       34,800  \n",
       "3       24,490  \n",
       "4       24,990  \n",
       "5       28,490  \n",
       "6       29,999  \n",
       "7       57,990  \n",
       "8       51,421  \n",
       "9       25,919  "
      ]
     },
     "execution_count": 32,
     "metadata": {},
     "output_type": "execute_result"
    }
   ],
   "source": [
    "df"
   ]
  },
  {
   "cell_type": "markdown",
   "id": "ab9238d0",
   "metadata": {},
   "source": [
    "# Q9: Write a python program to scrape data for first 10 job results for Data Scientist Designation in Noida  location. \n",
    "1..You have to scrape company name, \n",
    "2..No. of days ago when job was posted, \n",
    "3..Rating of the company."
   ]
  },
  {
   "cell_type": "code",
   "execution_count": 1,
   "id": "915b7406",
   "metadata": {},
   "outputs": [],
   "source": [
    "#  import all librabries\n",
    "\n",
    "import selenium\n",
    "import pandas as pd\n",
    "from selenium import webdriver\n",
    "import warnings\n",
    "warnings.filterwarnings('ignore')\n",
    "from selenium.common.exceptions import StaleElementReferenceException, NoSuchElementException\n",
    "from selenium.webdriver.common.by import By\n",
    "import time"
   ]
  },
  {
   "cell_type": "code",
   "execution_count": 2,
   "id": "f7902b2e",
   "metadata": {},
   "outputs": [],
   "source": [
    "# first connect to the browser\n",
    "driver = webdriver.Chrome(r\"C:\\Users\\Dell\\Downloads\\chromedriver_win32\\chromedriver.exe\"  )"
   ]
  },
  {
   "cell_type": "code",
   "execution_count": 3,
   "id": "a1e84bfb",
   "metadata": {},
   "outputs": [],
   "source": [
    "#opening this page from automated chrome browser\n",
    "driver.get(\"https://www.ambitionbox.com/\")"
   ]
  },
  {
   "cell_type": "code",
   "execution_count": 4,
   "id": "1735cdb3",
   "metadata": {},
   "outputs": [],
   "source": [
    "Job=driver.find_element(By.CLASS_NAME,\"navItemLink\")\n",
    "Job.click()"
   ]
  },
  {
   "cell_type": "code",
   "execution_count": 6,
   "id": "ae6d4dcc",
   "metadata": {},
   "outputs": [],
   "source": [
    "#  entering designation and location as required in the question\n",
    "\n",
    "designation=driver.find_element(By.XPATH,\"/html/body/div/div/div/div[2]/div[1]/div[1]/div/div/div/div/span/input\")\n",
    "designation.send_keys('Data scientist')"
   ]
  },
  {
   "cell_type": "code",
   "execution_count": 8,
   "id": "4253ff9c",
   "metadata": {},
   "outputs": [],
   "source": [
    "search=driver.find_element(By.CLASS_NAME,\"ctas-btn-medium\")\n",
    "search.click()"
   ]
  },
  {
   "cell_type": "code",
   "execution_count": 12,
   "id": "57c85156",
   "metadata": {},
   "outputs": [],
   "source": [
    "Location=driver.find_element(By.XPATH,\"/html/body/div/div/div/div[2]/div[1]/div[2]/div[1]/div/div/div/div[2]/div[1]/p\")\n",
    "Location.click()"
   ]
  },
  {
   "cell_type": "code",
   "execution_count": 14,
   "id": "db81272e",
   "metadata": {},
   "outputs": [],
   "source": [
    "location=driver.find_element(By.XPATH,\"/html/body/div/div/div/div[2]/div[1]/div[2]/div[1]/div/div/div/div[2]/div[2]/div/div[3]/div[1]/div[8]/div/input\")\n",
    "location.click()"
   ]
  },
  {
   "cell_type": "code",
   "execution_count": 16,
   "id": "3ab288c2",
   "metadata": {},
   "outputs": [],
   "source": [
    "company_name = []\n",
    "days_ago = []\n",
    "Rating_point = []"
   ]
  },
  {
   "cell_type": "code",
   "execution_count": 17,
   "id": "5028c814",
   "metadata": {},
   "outputs": [],
   "source": [
    "#  scraping job title from given page\n",
    "company_tags=driver.find_elements(By.XPATH,\"//p[@class='company body-medium']\")\n",
    "for i in company_tags[0:10]:\n",
    "    company=i.text\n",
    "    company_name.append(company)\n",
    "    \n",
    "#  scraping job location from given page\n",
    "days_tags=driver.find_elements(By.XPATH,\"//span[@class='body-small-l']\")\n",
    "for i in days_tags[0:10]:\n",
    "    days=i.text\n",
    "    days_ago.append(days)\n",
    "\n",
    "    \n",
    "#  scraping company name from iven page\n",
    "Rating_tags=driver.find_elements(By.XPATH,\"//span[@class='body-small']\")\n",
    "for i in Rating_tags[0:10]:\n",
    "    Rating=i.text\n",
    "    Rating_point.append(Rating)\n",
    "    "
   ]
  },
  {
   "cell_type": "code",
   "execution_count": 18,
   "id": "8e7ee03d",
   "metadata": {},
   "outputs": [
    {
     "name": "stdout",
     "output_type": "stream",
     "text": [
      "10 10 10\n"
     ]
    }
   ],
   "source": [
    "# print all length\n",
    "print(len(company_name),len(days_ago),len(Rating_point))"
   ]
  },
  {
   "cell_type": "code",
   "execution_count": 20,
   "id": "657de81c",
   "metadata": {},
   "outputs": [],
   "source": [
    "#  create the dataframe\n",
    "df=pd.DataFrame({'company_name':company_name,'days_ago':days_ago,'Rating_point':Rating_point})"
   ]
  },
  {
   "cell_type": "code",
   "execution_count": 21,
   "id": "87a1ad15",
   "metadata": {},
   "outputs": [
    {
     "data": {
      "text/html": [
       "<div>\n",
       "<style scoped>\n",
       "    .dataframe tbody tr th:only-of-type {\n",
       "        vertical-align: middle;\n",
       "    }\n",
       "\n",
       "    .dataframe tbody tr th {\n",
       "        vertical-align: top;\n",
       "    }\n",
       "\n",
       "    .dataframe thead th {\n",
       "        text-align: right;\n",
       "    }\n",
       "</style>\n",
       "<table border=\"1\" class=\"dataframe\">\n",
       "  <thead>\n",
       "    <tr style=\"text-align: right;\">\n",
       "      <th></th>\n",
       "      <th>company_name</th>\n",
       "      <th>days_ago</th>\n",
       "      <th>Rating_point</th>\n",
       "    </tr>\n",
       "  </thead>\n",
       "  <tbody>\n",
       "    <tr>\n",
       "      <th>0</th>\n",
       "      <td>Optum Global Solutions (India) Private Limited</td>\n",
       "      <td>6d ago</td>\n",
       "      <td>4.1</td>\n",
       "    </tr>\n",
       "    <tr>\n",
       "      <th>1</th>\n",
       "      <td>BARCLAYS GLOBAL SERVICE CENTRE PRIVATE LIMITED</td>\n",
       "      <td>via naukri.com</td>\n",
       "      <td>4.3</td>\n",
       "    </tr>\n",
       "    <tr>\n",
       "      <th>2</th>\n",
       "      <td>EY GDS</td>\n",
       "      <td>4d ago</td>\n",
       "      <td>3.8</td>\n",
       "    </tr>\n",
       "    <tr>\n",
       "      <th>3</th>\n",
       "      <td>GLOBALLOGIC INDIA PRIVATE LIMITED</td>\n",
       "      <td>via naukri.com</td>\n",
       "      <td>4.0</td>\n",
       "    </tr>\n",
       "    <tr>\n",
       "      <th>4</th>\n",
       "      <td>GENPACT India Private Limited</td>\n",
       "      <td>6d ago</td>\n",
       "      <td>4.0</td>\n",
       "    </tr>\n",
       "    <tr>\n",
       "      <th>5</th>\n",
       "      <td>Genpact</td>\n",
       "      <td>via iimjobs.com</td>\n",
       "      <td>4.0</td>\n",
       "    </tr>\n",
       "    <tr>\n",
       "      <th>6</th>\n",
       "      <td>Ericsson India Global Services Pvt. Ltd.</td>\n",
       "      <td>4d ago</td>\n",
       "      <td>4.3</td>\n",
       "    </tr>\n",
       "    <tr>\n",
       "      <th>7</th>\n",
       "      <td>Dew Solutions Pvt. Ltd.</td>\n",
       "      <td>via naukri.com</td>\n",
       "      <td>4.3</td>\n",
       "    </tr>\n",
       "    <tr>\n",
       "      <th>8</th>\n",
       "      <td>One97 Communications Limited</td>\n",
       "      <td>26d ago</td>\n",
       "      <td>3.8</td>\n",
       "    </tr>\n",
       "    <tr>\n",
       "      <th>9</th>\n",
       "      <td>EY</td>\n",
       "      <td>via naukri.com</td>\n",
       "      <td>3.8</td>\n",
       "    </tr>\n",
       "  </tbody>\n",
       "</table>\n",
       "</div>"
      ],
      "text/plain": [
       "                                     company_name         days_ago  \\\n",
       "0  Optum Global Solutions (India) Private Limited           6d ago   \n",
       "1  BARCLAYS GLOBAL SERVICE CENTRE PRIVATE LIMITED   via naukri.com   \n",
       "2                                          EY GDS           4d ago   \n",
       "3               GLOBALLOGIC INDIA PRIVATE LIMITED   via naukri.com   \n",
       "4                   GENPACT India Private Limited           6d ago   \n",
       "5                                         Genpact  via iimjobs.com   \n",
       "6        Ericsson India Global Services Pvt. Ltd.           4d ago   \n",
       "7                         Dew Solutions Pvt. Ltd.   via naukri.com   \n",
       "8                    One97 Communications Limited          26d ago   \n",
       "9                                              EY   via naukri.com   \n",
       "\n",
       "  Rating_point  \n",
       "0          4.1  \n",
       "1          4.3  \n",
       "2          3.8  \n",
       "3          4.0  \n",
       "4          4.0  \n",
       "5          4.0  \n",
       "6          4.3  \n",
       "7          4.3  \n",
       "8          3.8  \n",
       "9          3.8  "
      ]
     },
     "execution_count": 21,
     "metadata": {},
     "output_type": "execute_result"
    }
   ],
   "source": [
    "df"
   ]
  },
  {
   "cell_type": "code",
   "execution_count": null,
   "id": "a95bfd10",
   "metadata": {},
   "outputs": [],
   "source": []
  },
  {
   "cell_type": "code",
   "execution_count": null,
   "id": "84ed6e7a",
   "metadata": {},
   "outputs": [],
   "source": []
  },
  {
   "cell_type": "markdown",
   "id": "e08d1377",
   "metadata": {},
   "source": [
    "# Q10: Write a python program to scrape the salary data for Data Scientist designation.\n",
    "You have to scrape Company name, Number of salaries, Average salary, Minsalary, Max Salary"
   ]
  },
  {
   "cell_type": "code",
   "execution_count": 1,
   "id": "3fd1ba70",
   "metadata": {},
   "outputs": [],
   "source": [
    "#  import all librabries\n",
    "\n",
    "import selenium\n",
    "import pandas as pd\n",
    "from selenium import webdriver\n",
    "import warnings\n",
    "warnings.filterwarnings('ignore')\n",
    "from selenium.common.exceptions import StaleElementReferenceException, NoSuchElementException\n",
    "from selenium.webdriver.common.by import By\n",
    "import time"
   ]
  },
  {
   "cell_type": "code",
   "execution_count": 2,
   "id": "77cea5fc",
   "metadata": {},
   "outputs": [],
   "source": [
    "# first connect to the browser\n",
    "driver = webdriver.Chrome(r\"C:\\Users\\Dell\\Downloads\\chromedriver_win32\\chromedriver.exe\"  )"
   ]
  },
  {
   "cell_type": "code",
   "execution_count": 3,
   "id": "318db2b9",
   "metadata": {},
   "outputs": [],
   "source": [
    "#opening this page from automated chrome browser\n",
    "driver.get(\"https://www.ambitionbox.com/\")"
   ]
  },
  {
   "cell_type": "code",
   "execution_count": 6,
   "id": "a62e7ac2",
   "metadata": {},
   "outputs": [],
   "source": [
    "Salaries=driver.find_element(By.CLASS_NAME,\"icon-chevron-right\")\n",
    "Salaries.click()"
   ]
  },
  {
   "cell_type": "code",
   "execution_count": 7,
   "id": "a507a642",
   "metadata": {},
   "outputs": [],
   "source": [
    "salary=driver.find_element(By.XPATH,\"/html/body/div/div/div/div[1]/header/nav/ul/li[3]\")\n",
    "salary.click()"
   ]
  },
  {
   "cell_type": "code",
   "execution_count": 8,
   "id": "ed88aa5d",
   "metadata": {},
   "outputs": [],
   "source": [
    "browse_salary=driver.find_element(By.XPATH,\"/html/body/div/div/div/div[1]/header/nav/ul/li[3]/div/ul/li[1]/div/div[2]\")\n",
    "browse_salary.click()"
   ]
  },
  {
   "cell_type": "code",
   "execution_count": 10,
   "id": "1e4d46f2",
   "metadata": {},
   "outputs": [],
   "source": [
    "#  entering designation  required in the question\n",
    "\n",
    "profile=driver.find_element(By.XPATH,\"/html/body/div/div/div/main/section[1]/div[2]/div[1]/span/input\")\n",
    "profile.send_keys('Data scientist')"
   ]
  },
  {
   "cell_type": "code",
   "execution_count": null,
   "id": "97db86f9",
   "metadata": {},
   "outputs": [],
   "source": []
  },
  {
   "cell_type": "code",
   "execution_count": 7,
   "id": "d83be487",
   "metadata": {},
   "outputs": [],
   "source": [
    "Company_name = []\n",
    "Number_salaries = []\n",
    "Average_salary = []\n",
    "Min_salary = []\n",
    "Max_Salary = []\n",
    "Experience_required = []"
   ]
  }
 ],
 "metadata": {
  "kernelspec": {
   "display_name": "Python 3 (ipykernel)",
   "language": "python",
   "name": "python3"
  },
  "language_info": {
   "codemirror_mode": {
    "name": "ipython",
    "version": 3
   },
   "file_extension": ".py",
   "mimetype": "text/x-python",
   "name": "python",
   "nbconvert_exporter": "python",
   "pygments_lexer": "ipython3",
   "version": "3.9.7"
  }
 },
 "nbformat": 4,
 "nbformat_minor": 5
}
