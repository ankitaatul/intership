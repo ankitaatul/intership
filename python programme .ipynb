{
 "cells": [
  {
   "cell_type": "code",
   "execution_count": null,
   "id": "a9f8eb50",
   "metadata": {},
   "outputs": [],
   "source": []
  },
  {
   "cell_type": "code",
   "execution_count": 1,
   "id": "44b4afe4",
   "metadata": {},
   "outputs": [
    {
     "name": "stdout",
     "output_type": "stream",
     "text": [
      "Enter a number: 7\n",
      "7 is a prime number\n"
     ]
    }
   ],
   "source": [
    "#take input\n",
    "num = int(input(\"Enter a number: \"))\n",
    "\n",
    "flag = False\n",
    "\n",
    "if num > 1:\n",
    "    for i in range(2,num ):\n",
    "        if (num % i) == 0:\n",
    "            flag = True\n",
    "            break\n",
    "            \n",
    "if flag:\n",
    "    print(num,\"is composite number\")\n",
    "else:\n",
    "    print(num,\"is a prime number\")"
   ]
  },
  {
   "cell_type": "code",
   "execution_count": 2,
   "id": "33eb1db7",
   "metadata": {},
   "outputs": [
    {
     "name": "stdout",
     "output_type": "stream",
     "text": [
      "Enter a number: 4\n",
      "the factorial of 4 is 24\n"
     ]
    }
   ],
   "source": [
    "#python program_factorial number(q-1)\n",
    "\n",
    "# put the input\n",
    "num = int(input(\"Enter a number: \"))\n",
    "\n",
    "factorial = 1\n",
    "#firstly check if the nuber is negative,positive or zero\n",
    "if num < 0:\n",
    "    print(\"Sorry,Factorial  not for negative number\")\n",
    "elif num == 0:\n",
    "    print(\"the factorial of 0 is 1\")\n",
    "else:\n",
    "    for i in range(1,num + 1):\n",
    "        factorial = factorial*i\n",
    "    print(\"the factorial of\",num,\"is\",factorial)"
   ]
  },
  {
   "cell_type": "code",
   "execution_count": 3,
   "id": "cc8735af",
   "metadata": {},
   "outputs": [
    {
     "name": "stdout",
     "output_type": "stream",
     "text": [
      "B = 1\n",
      "a = 3\n",
      "n = 2\n",
      "a = 3\n",
      "n = 2\n",
      "a = 3\n"
     ]
    }
   ],
   "source": [
    "#python_counting of character in string(q-15)\n",
    "\n",
    "# counting of predefined character frequency\n",
    "\n",
    "my_string = (\"Banana\")\n",
    "\n",
    "\n",
    "for i in my_string:\n",
    "    frequency = my_string.count(i)\n",
    "    print(str(i) + \" = \" +str(frequency))"
   ]
  },
  {
   "cell_type": "code",
   "execution_count": 4,
   "id": "12c49ce3",
   "metadata": {},
   "outputs": [
    {
     "name": "stdout",
     "output_type": "stream",
     "text": [
      "the string is a palindrome\n"
     ]
    }
   ],
   "source": [
    "# python programe_string is palindrome or not(q-13)\n",
    "\n",
    "my_str = 'FAsTsaf'\n",
    "\n",
    "my_str = my_str.casefold()\n",
    "\n",
    "rev_str = reversed(my_str)\n",
    "\n",
    "if list(my_str) == list(rev_str):\n",
    "    print(\"the string is a palindrome\")\n",
    "else:\n",
    "    print(\"the string is not palindrome\")"
   ]
  },
  {
   "cell_type": "code",
   "execution_count": 5,
   "id": "727d6908",
   "metadata": {},
   "outputs": [],
   "source": [
    "#  python programe_get right angle triangle from 2 given sides(q-14)\n",
    "\n",
    "\n",
    "def pythagoras (opposite_side,adjacent_side,hypotenuse):\n",
    "    \n",
    "    if opposite_side == str(\"x\"):\n",
    "        return(\"opposite =\"+str(((hypotenuse**2) - (adjacent_side**2))**0.5))  \n",
    "    \n",
    "    elif adjacent_side == str(\"x\"):\n",
    "        return (\"Adjacent =\"+ str(((hypotenuse**2) - (opposite_side**2))**0.5))\n",
    "    \n",
    "    elif hypotenuse == str(\"x\"):\n",
    "         return  (\"hypotenuse=\"+ str(((opposite_side**2) + (adjacent_side**2))**0.5))\n",
    "        \n",
    "    else:\n",
    "         return \"got the answer\"\n",
    "            "
   ]
  },
  {
   "cell_type": "code",
   "execution_count": 6,
   "id": "70d57fea",
   "metadata": {},
   "outputs": [
    {
     "name": "stdout",
     "output_type": "stream",
     "text": [
      "hypotenuse=5.0\n",
      "Adjacent =4.0\n",
      "opposite =3.0\n",
      "got the answer\n"
     ]
    }
   ],
   "source": [
    "print (pythagoras (3, 4 ,'x'))\n",
    "print (pythagoras (3,'x',5))\n",
    "print (pythagoras ('x',4,5))\n",
    "print (pythagoras (3,4,5))"
   ]
  },
  {
   "cell_type": "code",
   "execution_count": null,
   "id": "c8b4c71a",
   "metadata": {},
   "outputs": [],
   "source": []
  }
 ],
 "metadata": {
  "kernelspec": {
   "display_name": "Python 3 (ipykernel)",
   "language": "python",
   "name": "python3"
  },
  "language_info": {
   "codemirror_mode": {
    "name": "ipython",
    "version": 3
   },
   "file_extension": ".py",
   "mimetype": "text/x-python",
   "name": "python",
   "nbconvert_exporter": "python",
   "pygments_lexer": "ipython3",
   "version": "3.9.7"
  }
 },
 "nbformat": 4,
 "nbformat_minor": 5
}
