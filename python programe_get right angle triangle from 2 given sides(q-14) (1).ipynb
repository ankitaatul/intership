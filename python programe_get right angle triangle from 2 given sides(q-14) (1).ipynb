{
 "cells": [
  {
   "cell_type": "code",
   "execution_count": 14,
   "id": "a2bdc986",
   "metadata": {},
   "outputs": [],
   "source": [
    "def pythagoras (opposite_side,adjacent_side,hypotenuse):\n",
    "    \n",
    "    if opposite_side == str(\"x\"):\n",
    "        return(\"opposite =\"+str(((hypotenuse**2) - (adjacent_side**2))**0.5))  \n",
    "    \n",
    "    elif adjacent_side == str(\"x\"):\n",
    "        return (\"Adjacent =\"+ str(((hypotenuse**2) - (opposite_side**2))**0.5))\n",
    "    \n",
    "    elif hypotenuse == str(\"x\"):\n",
    "         return  (\"hypotenuse=\"+ str(((opposite_side**2) + (adjacent_side**2))**0.5))\n",
    "        \n",
    "    else:\n",
    "         return \"got the answer\"\n",
    "            \n",
    "            "
   ]
  },
  {
   "cell_type": "code",
   "execution_count": 15,
   "id": "c7622341",
   "metadata": {},
   "outputs": [
    {
     "name": "stdout",
     "output_type": "stream",
     "text": [
      "hypotenuse=5.0\n",
      "Adjacent =4.0\n",
      "opposite =3.0\n",
      "got the answer\n"
     ]
    }
   ],
   "source": [
    "print (pythagoras (3, 4 ,'x'))\n",
    "print (pythagoras (3,'x',5))\n",
    "print (pythagoras ('x',4,5))\n",
    "print (pythagoras (3,4,5))"
   ]
  },
  {
   "cell_type": "code",
   "execution_count": null,
   "id": "5beb0653",
   "metadata": {},
   "outputs": [],
   "source": []
  }
 ],
 "metadata": {
  "kernelspec": {
   "display_name": "Python 3 (ipykernel)",
   "language": "python",
   "name": "python3"
  },
  "language_info": {
   "codemirror_mode": {
    "name": "ipython",
    "version": 3
   },
   "file_extension": ".py",
   "mimetype": "text/x-python",
   "name": "python",
   "nbconvert_exporter": "python",
   "pygments_lexer": "ipython3",
   "version": "3.9.7"
  }
 },
 "nbformat": 4,
 "nbformat_minor": 5
}
