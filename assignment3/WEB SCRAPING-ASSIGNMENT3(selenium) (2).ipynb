{
 "cells": [
  {
   "cell_type": "code",
   "execution_count": 1,
   "id": "3f2ef892",
   "metadata": {},
   "outputs": [
    {
     "name": "stdout",
     "output_type": "stream",
     "text": [
      "Requirement already satisfied: selenium in c:\\users\\dell\\anaconda3\\lib\\site-packages (4.4.3)\n",
      "Requirement already satisfied: trio~=0.17 in c:\\users\\dell\\anaconda3\\lib\\site-packages (from selenium) (0.21.0)\n",
      "Requirement already satisfied: certifi>=2021.10.8 in c:\\users\\dell\\anaconda3\\lib\\site-packages (from selenium) (2021.10.8)\n",
      "Requirement already satisfied: trio-websocket~=0.9 in c:\\users\\dell\\anaconda3\\lib\\site-packages (from selenium) (0.9.2)\n",
      "Requirement already satisfied: urllib3[socks]~=1.26 in c:\\users\\dell\\anaconda3\\lib\\site-packages (from selenium) (1.26.7)\n",
      "Requirement already satisfied: outcome in c:\\users\\dell\\anaconda3\\lib\\site-packages (from trio~=0.17->selenium) (1.2.0)\n",
      "Requirement already satisfied: async-generator>=1.9 in c:\\users\\dell\\anaconda3\\lib\\site-packages (from trio~=0.17->selenium) (1.10)\n",
      "Requirement already satisfied: sniffio in c:\\users\\dell\\anaconda3\\lib\\site-packages (from trio~=0.17->selenium) (1.2.0)\n",
      "Requirement already satisfied: idna in c:\\users\\dell\\anaconda3\\lib\\site-packages (from trio~=0.17->selenium) (3.2)\n",
      "Requirement already satisfied: sortedcontainers in c:\\users\\dell\\anaconda3\\lib\\site-packages (from trio~=0.17->selenium) (2.4.0)\n",
      "Requirement already satisfied: cffi>=1.14 in c:\\users\\dell\\anaconda3\\lib\\site-packages (from trio~=0.17->selenium) (1.14.6)\n",
      "Requirement already satisfied: attrs>=19.2.0 in c:\\users\\dell\\anaconda3\\lib\\site-packages (from trio~=0.17->selenium) (21.2.0)\n",
      "Requirement already satisfied: pycparser in c:\\users\\dell\\anaconda3\\lib\\site-packages (from cffi>=1.14->trio~=0.17->selenium) (2.20)\n",
      "Requirement already satisfied: wsproto>=0.14 in c:\\users\\dell\\anaconda3\\lib\\site-packages (from trio-websocket~=0.9->selenium) (1.2.0)\n",
      "Requirement already satisfied: PySocks!=1.5.7,<2.0,>=1.5.6 in c:\\users\\dell\\anaconda3\\lib\\site-packages (from urllib3[socks]~=1.26->selenium) (1.7.1)\n",
      "Requirement already satisfied: h11<1,>=0.9.0 in c:\\users\\dell\\anaconda3\\lib\\site-packages (from wsproto>=0.14->trio-websocket~=0.9->selenium) (0.13.0)\n"
     ]
    }
   ],
   "source": [
    "!pip install selenium"
   ]
  },
  {
   "cell_type": "code",
   "execution_count": 1,
   "id": "56739227",
   "metadata": {},
   "outputs": [],
   "source": [
    "import selenium\n",
    "import pandas as pd\n",
    "from selenium import webdriver\n",
    "import warnings\n",
    "warnings.filterwarnings('ignore')\n",
    "from selenium.common.exceptions import StaleElementReferenceException, NoSuchElementException\n",
    "from selenium.webdriver.common.by import By\n",
    "\n",
    "import time"
   ]
  },
  {
   "cell_type": "markdown",
   "id": "edc3065d",
   "metadata": {},
   "source": [
    "1. Write a python program which searches all the product under a particular product from www.amazon.in. The product to be searched will be taken as input from user. For e.g. If user input is ‘guitar’. Then search for guitars."
   ]
  },
  {
   "cell_type": "code",
   "execution_count": 2,
   "id": "d7da3f35",
   "metadata": {},
   "outputs": [],
   "source": [
    "# first connect to the browser\n",
    "driver = webdriver.Chrome(r\"C:\\Users\\Dell\\Downloads\\chromedriver_win32\\chromedriver.exe\"  )"
   ]
  },
  {
   "cell_type": "code",
   "execution_count": 3,
   "id": "61ba9921",
   "metadata": {},
   "outputs": [],
   "source": [
    "#opening this page from automated chrome browser\n",
    "driver.get(\"https://www.amazon.in.\")"
   ]
  },
  {
   "cell_type": "code",
   "execution_count": 4,
   "id": "a0bfad8d",
   "metadata": {},
   "outputs": [],
   "source": [
    "from selenium.common.exceptions import ElementNotInteractableException  "
   ]
  },
  {
   "cell_type": "code",
   "execution_count": 5,
   "id": "b4f3a1db",
   "metadata": {},
   "outputs": [],
   "source": [
    "time.sleep(5)\n",
    "try:\n",
    "    element=driver.find_element(By.XPATH,\"//input[@class='nav-input nav-progressive-attribute']\")\n",
    "    element.click()\n",
    "except ElementNotInteractableException as e:\n",
    "    print(\"Exception Raised: \",e)\n",
    "    element = driver.find_element(By.XPATH,\"//input[@class='nav-input nav-progressive-attribute']\")\n",
    "    driver.get(element.get_attribute('tabindex'))"
   ]
  },
  {
   "cell_type": "code",
   "execution_count": 6,
   "id": "529ee7a3",
   "metadata": {},
   "outputs": [],
   "source": [
    "element = driver.find_element(By.XPATH,\"//input[@class='nav-input nav-progressive-attribute']\")\n",
    "element.send_keys('guitar')"
   ]
  },
  {
   "cell_type": "code",
   "execution_count": 7,
   "id": "cf877774",
   "metadata": {},
   "outputs": [],
   "source": [
    "search=driver.find_element(By.CLASS_NAME,\"nav-right\")\n",
    "search.click()"
   ]
  },
  {
   "cell_type": "markdown",
   "id": "37a055ba",
   "metadata": {},
   "source": [
    "2. In the above question, now scrape the following details of each product listed in first 3 pages of your search results and save it in a data frame and csv. In case if any product has less than 3 pages in search results then scrape all the products available under that product name. Details to be scraped are: \"Brand Name\", \"Name of the Product\", \"Price\", \"Return/Exchange\", \"Expected Delivery\", \"Availability\" and “Product URL”. In case, if any of the details are missing for any of the product then replace it by “-“."
   ]
  },
  {
   "cell_type": "code",
   "execution_count": 10,
   "id": "e33636ab",
   "metadata": {},
   "outputs": [],
   "source": [
    "Brand_name = []\n",
    "price_value = []\n",
    "Return_Exchange = []\n",
    "Expected_Delivery = []\n",
    "product_URL = []"
   ]
  },
  {
   "cell_type": "code",
   "execution_count": 11,
   "id": "da39da1d",
   "metadata": {},
   "outputs": [],
   "source": [
    "#scrape all products urls\n",
    "product_urls = []\n",
    "start=0\n",
    "end=3\n",
    "for page in range(start,end):\n",
    "    url=driver.find_elements(By.XPATH,\"/html/body/div[1]/div[2]/div[1]/div[1]/div/span[3]/div[2]/div[3]/div/div/div/div/div/div/div[1]/span/a\")\n",
    "    for i in url:\n",
    "        product_urls.append(i.get_attribute(\"href\"))\n",
    "    nxt_button=driver.find_elements(By.XPATH,\"/html/body/div[1]/div[2]/div[1]/div[1]/div/span[3]/div[2]/div[67]/div/div/span/a[3]\")    \n",
    "    time.sleep(2)\n",
    "    \n",
    "   "
   ]
  },
  {
   "cell_type": "code",
   "execution_count": 13,
   "id": "dc67cbf5",
   "metadata": {},
   "outputs": [],
   "source": [
    "for url in product_urls:\n",
    "    driver.get(url)\n",
    "    time.sleep(2)\n",
    "    \n",
    "    try:\n",
    "        brand = driver.find_element(By.XPATH,\"//h2[@class='a-size-mini a-spacing-none a-color-base s-line-clamp-4']\")\n",
    "        Brand_name.append(brand.text)\n",
    "    except NoSuchElementException:\n",
    "        Brand_name.append('-')"
   ]
  },
  {
   "cell_type": "code",
   "execution_count": null,
   "id": "1dbd8e50",
   "metadata": {},
   "outputs": [],
   "source": []
  },
  {
   "cell_type": "code",
   "execution_count": 16,
   "id": "115396d1",
   "metadata": {},
   "outputs": [],
   "source": [
    "for url in product_urls:\n",
    "    driver.get(url)\n",
    "    time.sleep(2)\n",
    "    \n",
    "    try:\n",
    "        price = driver.find_element(By.XPATH,\"/html/body/div[2]/div[2]/div[5]/div[4]/div[4]/div[10]/div/div[1]/div[2]/div/table/tbody/tr[2]/td[2]/span[1]/span[2]\")\n",
    "        price_value.append(price.text)\n",
    "    except NoSuchElementException:\n",
    "        price_value.append('-')"
   ]
  },
  {
   "cell_type": "code",
   "execution_count": 17,
   "id": "b01b299a",
   "metadata": {},
   "outputs": [
    {
     "data": {
      "text/plain": [
       "['₹3,999', '₹3,999.00', '₹3,999.00']"
      ]
     },
     "execution_count": 17,
     "metadata": {},
     "output_type": "execute_result"
    }
   ],
   "source": [
    "price_value"
   ]
  },
  {
   "cell_type": "code",
   "execution_count": 18,
   "id": "d391c2bf",
   "metadata": {},
   "outputs": [],
   "source": [
    "for url in product_urls:\n",
    "    driver.get(url)\n",
    "    time.sleep(2)\n",
    "    \n",
    "    try:\n",
    "        Return = driver.find_element(By.XPATH,\"//div[@class='a-column a-span3 a-text-center icon-container icon-grid-width celwidget']\")\n",
    "        Return_Exchange.append(Return.text)\n",
    "    except NoSuchElementException:\n",
    "        Return_Exchange.append('-')"
   ]
  },
  {
   "cell_type": "code",
   "execution_count": 19,
   "id": "c662d03b",
   "metadata": {},
   "outputs": [
    {
     "data": {
      "text/plain": [
       "['7 Days Replacement', '7 Days Replacement', '7 Days Replacement']"
      ]
     },
     "execution_count": 19,
     "metadata": {},
     "output_type": "execute_result"
    }
   ],
   "source": [
    "        Return_Exchange"
   ]
  },
  {
   "cell_type": "code",
   "execution_count": 20,
   "id": "056c2c8c",
   "metadata": {},
   "outputs": [],
   "source": [
    "for url in product_urls:\n",
    "    driver.get(url)\n",
    "    time.sleep(2)\n",
    "    \n",
    "    try:\n",
    "        Delivery = driver.find_element(By.XPATH,\"//span[@class='a-text-bold']\")\n",
    "        Expected_Delivery.append(Delivery.text)\n",
    "    except NoSuchElementException:\n",
    "        Expected_Delivery.append('-')"
   ]
  },
  {
   "cell_type": "code",
   "execution_count": 21,
   "id": "a1630911",
   "metadata": {},
   "outputs": [
    {
     "data": {
      "text/plain": [
       "['Monday, 3 October', 'Mon, 3 Oct', 'Monday, 3 October']"
      ]
     },
     "execution_count": 21,
     "metadata": {},
     "output_type": "execute_result"
    }
   ],
   "source": [
    "Expected_Delivery"
   ]
  },
  {
   "cell_type": "code",
   "execution_count": 25,
   "id": "608814a6",
   "metadata": {},
   "outputs": [],
   "source": [
    "df=pd.DataFrame({'Return_Exchange':Return_Exchange,'Expected_Delivery':Expected_Delivery,'price_value':price_value})"
   ]
  },
  {
   "cell_type": "code",
   "execution_count": 26,
   "id": "47264a6b",
   "metadata": {},
   "outputs": [
    {
     "data": {
      "text/html": [
       "<div>\n",
       "<style scoped>\n",
       "    .dataframe tbody tr th:only-of-type {\n",
       "        vertical-align: middle;\n",
       "    }\n",
       "\n",
       "    .dataframe tbody tr th {\n",
       "        vertical-align: top;\n",
       "    }\n",
       "\n",
       "    .dataframe thead th {\n",
       "        text-align: right;\n",
       "    }\n",
       "</style>\n",
       "<table border=\"1\" class=\"dataframe\">\n",
       "  <thead>\n",
       "    <tr style=\"text-align: right;\">\n",
       "      <th></th>\n",
       "      <th>Return_Exchange</th>\n",
       "      <th>Expected_Delivery</th>\n",
       "      <th>price_value</th>\n",
       "    </tr>\n",
       "  </thead>\n",
       "  <tbody>\n",
       "    <tr>\n",
       "      <th>0</th>\n",
       "      <td>7 Days Replacement</td>\n",
       "      <td>Monday, 3 October</td>\n",
       "      <td>₹3,999</td>\n",
       "    </tr>\n",
       "    <tr>\n",
       "      <th>1</th>\n",
       "      <td>7 Days Replacement</td>\n",
       "      <td>Mon, 3 Oct</td>\n",
       "      <td>₹3,999.00</td>\n",
       "    </tr>\n",
       "    <tr>\n",
       "      <th>2</th>\n",
       "      <td>7 Days Replacement</td>\n",
       "      <td>Monday, 3 October</td>\n",
       "      <td>₹3,999.00</td>\n",
       "    </tr>\n",
       "  </tbody>\n",
       "</table>\n",
       "</div>"
      ],
      "text/plain": [
       "      Return_Exchange  Expected_Delivery price_value\n",
       "0  7 Days Replacement  Monday, 3 October      ₹3,999\n",
       "1  7 Days Replacement         Mon, 3 Oct   ₹3,999.00\n",
       "2  7 Days Replacement  Monday, 3 October   ₹3,999.00"
      ]
     },
     "execution_count": 26,
     "metadata": {},
     "output_type": "execute_result"
    }
   ],
   "source": [
    "df"
   ]
  },
  {
   "cell_type": "code",
   "execution_count": 27,
   "id": "ebed3691",
   "metadata": {},
   "outputs": [],
   "source": [
    "driver.close()"
   ]
  },
  {
   "cell_type": "code",
   "execution_count": null,
   "id": "51c1b59b",
   "metadata": {},
   "outputs": [],
   "source": []
  },
  {
   "cell_type": "markdown",
   "id": "483b579d",
   "metadata": {},
   "source": [
    "3. Write a python program to access the search bar and search button on images.google.com and scrape 10 images each for keywords ‘fruits’, ‘cars’ and ‘Machine Learning’, ‘Guitar’, ‘Cakes"
   ]
  },
  {
   "cell_type": "code",
   "execution_count": 24,
   "id": "70b6a6d6",
   "metadata": {},
   "outputs": [],
   "source": [
    "import selenium\n",
    "import pandas as pd\n",
    "from selenium import webdriver\n",
    "import warnings\n",
    "warnings.filterwarnings('ignore')\n",
    "from selenium.common.exceptions import StaleElementReferenceException, NoSuchElementException\n",
    "from selenium.webdriver.common.by import By\n",
    "\n",
    "import time"
   ]
  },
  {
   "cell_type": "code",
   "execution_count": 25,
   "id": "df329f38",
   "metadata": {},
   "outputs": [],
   "source": [
    "# first connect to the browser\n",
    "driver = webdriver.Chrome(r\"C:\\Users\\Dell\\Downloads\\chromedriver_win32\\chromedriver.exe\"  )"
   ]
  },
  {
   "cell_type": "code",
   "execution_count": 26,
   "id": "1f2e314c",
   "metadata": {},
   "outputs": [],
   "source": [
    "#opening this page from automated chrome browser\n",
    "driver.get(\"https://images.google.com/\")"
   ]
  },
  {
   "cell_type": "code",
   "execution_count": 27,
   "id": "b02302cb",
   "metadata": {},
   "outputs": [],
   "source": [
    "from selenium.common.exceptions import ElementNotInteractableException  "
   ]
  },
  {
   "cell_type": "code",
   "execution_count": 30,
   "id": "262e4689",
   "metadata": {},
   "outputs": [],
   "source": [
    "image=driver.find_element(By.XPATH,\"/html/body/div[1]/div[3]/form/div[1]/div[1]/div[1]/div/div[2]/input\")\n",
    "image.send_keys('cars')"
   ]
  },
  {
   "cell_type": "code",
   "execution_count": 32,
   "id": "beaf9905",
   "metadata": {},
   "outputs": [],
   "source": [
    "search=driver.find_element(By.XPATH,\"//div[@class='zgAlFc']\")\n",
    "search.click()"
   ]
  },
  {
   "cell_type": "code",
   "execution_count": 37,
   "id": "90343eb8",
   "metadata": {},
   "outputs": [],
   "source": [
    "for _ in range(20):\n",
    "    driver.execute_script(\"window.scrollBy(0,1000)\")\n",
    "    \n",
    "images = driver.find_elements(By.XPATH,\"//img[@class='rg_i Q4LuWd']\") \n",
    "\n",
    "img_urls = []\n",
    "img_data = []\n",
    "for image in images:\n",
    "    source = image.get_attribute('src')\n",
    "    if source is not None:\n",
    "        if(source[0:4] == 'http'):\n",
    "            img_urls.append(source)\n",
    "            \n",
    "for i in range(len(img_urls)):\n",
    "    if i > 10:\n",
    "        break\n",
    "    print(\"Downloading {0} of {1} images\" .format(i,10))\n",
    "    response=requests.get(img_urls[i])\n",
    "    file = open(r\"E:\\FlipRobo\"+str(i)+\".jpg\", \"wb\")\n",
    "    file.write(response.content)"
   ]
  },
  {
   "cell_type": "code",
   "execution_count": 39,
   "id": "6f1eed8c",
   "metadata": {},
   "outputs": [],
   "source": [
    "driver.close()"
   ]
  },
  {
   "cell_type": "code",
   "execution_count": null,
   "id": "cdfb5d25",
   "metadata": {},
   "outputs": [],
   "source": []
  },
  {
   "cell_type": "markdown",
   "id": "7bcdf926",
   "metadata": {},
   "source": [
    "4. Write a python program to search for a smartphone(e.g.: Oneplus Nord, pixel 4A, etc.) on www.flipkart.com and scrape following details for all the search results displayed on 1st page. Details to be scraped: “Brand Name”, “Smartphone name”, “Colour”, “RAM”, “Storage(ROM)”, “Primary Camera”, “Secondary Camera”, “Display Size”, “Battery Capacity”, “Price”, “Product URL”. Incase if any of the details is missing then replace it by “- “. Save your results in a dataframe and CSV."
   ]
  },
  {
   "cell_type": "code",
   "execution_count": 1,
   "id": "a712d078",
   "metadata": {},
   "outputs": [],
   "source": [
    "import selenium\n",
    "import pandas as pd\n",
    "from selenium import webdriver\n",
    "import warnings\n",
    "warnings.filterwarnings('ignore')\n",
    "from selenium.common.exceptions import StaleElementReferenceException, NoSuchElementException\n",
    "from selenium.webdriver.common.by import By\n",
    "\n",
    "import time"
   ]
  },
  {
   "cell_type": "code",
   "execution_count": 2,
   "id": "d7cd3dca",
   "metadata": {},
   "outputs": [],
   "source": [
    "# first connect to the browser\n",
    "driver = webdriver.Chrome(r\"C:\\Users\\Dell\\Downloads\\chromedriver_win32\\chromedriver.exe\"  )"
   ]
  },
  {
   "cell_type": "code",
   "execution_count": 4,
   "id": "330398d4",
   "metadata": {},
   "outputs": [],
   "source": [
    "#opening this page from automated chrome browser\n",
    "driver.get(\"https://www.flipkart.com\")"
   ]
  },
  {
   "cell_type": "code",
   "execution_count": 5,
   "id": "4ee6d0e5",
   "metadata": {},
   "outputs": [],
   "source": [
    "element=driver.find_element(By.CLASS_NAME,\"_3704LK\")\n",
    "element.send_keys('Smartphone')"
   ]
  },
  {
   "cell_type": "code",
   "execution_count": 6,
   "id": "b1cb945a",
   "metadata": {},
   "outputs": [],
   "source": [
    "search=driver.find_element(By.CLASS_NAME,\"L0Z3Pu\")\n",
    "search.click()"
   ]
  },
  {
   "cell_type": "code",
   "execution_count": 8,
   "id": "7e7c175d",
   "metadata": {},
   "outputs": [],
   "source": [
    "brand_name=[]\n",
    "ROM_storage=[]\n",
    "primary_camera=[]\n",
    "secondary_camera=[]\n",
    "Display_size=[]\n",
    "Battery_capacity=[]\n",
    "price_value=[]\n",
    "product_URL=[]\n",
    "time.sleep(3)"
   ]
  },
  {
   "cell_type": "code",
   "execution_count": 9,
   "id": "11076f8e",
   "metadata": {},
   "outputs": [],
   "source": [
    "brand_tags=driver.find_elements(By.XPATH,\"//div[@class='_4rR01T']\")\n",
    "for i in brand_tags[0:24]:\n",
    "    brand=i.text\n",
    "    brand_name.append(brand)\n",
    "\n",
    "\n",
    "ROM_tags=driver.find_elements(By.XPATH,\"//ul[@class='_1xgFaf']//li[1]\")\n",
    "for i in ROM_tags[0:24]:\n",
    "    ROM=i.text\n",
    "    ROM_storage.append(ROM)\n",
    "    \n",
    "\n",
    "camera_tags=driver.find_elements(By.XPATH,\"//ul[@class='_1xgFaf']//li[3]\")\n",
    "for i in camera_tags[0:24]:\n",
    "    camera=i.text\n",
    "    primary_camera.append(camera)\n",
    "    \n",
    "Display_tags=driver.find_elements(By.XPATH,\"//ul[@class='_1xgFaf']//li[2]\")\n",
    "for i in Display_tags[0:24]:\n",
    "    Display=i.text\n",
    "    Display_size.append(Display)\n",
    "\n",
    "\n",
    "Battery_tags=driver.find_elements(By.XPATH,\"//ul[@class='_1xgFaf']//li[4]\")\n",
    "for i in Battery_tags[0:24]:\n",
    "    Battery=i.text\n",
    "    Battery_capacity.append(Battery)\n",
    "    \n",
    "\n",
    "price_tags=driver.find_elements(By.XPATH,\"//div[@class='_30jeq3 _1_WHN1']\")\n",
    "for i in price_tags[0:24]:\n",
    "    price=i.text\n",
    "    price_value.append(price)\n",
    "    \n",
    "URL_tags=driver.find_elements(By.XPATH,\"//a[@class='_1fQZEK']\")\n",
    "for i in URL_tags[0:24]:\n",
    "    product_URL.append(i.get_attribute('href'))"
   ]
  },
  {
   "cell_type": "code",
   "execution_count": 14,
   "id": "fb01f576",
   "metadata": {},
   "outputs": [],
   "source": [
    "secondary_camera=[]\n",
    "\n",
    "try: \n",
    "\n",
    "    camera_tag=drive.find_element(By.ID,\"secondary_camera\")[:24]\n",
    "    \n",
    "    for i in camera_tag[0:24]:\n",
    "        secondary_camera.append(camera.text)\n",
    "\n",
    "except:\n",
    "\n",
    "    secondary_camera.append('-')"
   ]
  },
  {
   "cell_type": "code",
   "execution_count": 11,
   "id": "7703d775",
   "metadata": {},
   "outputs": [
    {
     "name": "stdout",
     "output_type": "stream",
     "text": [
      "24 24 24 1 24 24 24 24\n"
     ]
    }
   ],
   "source": [
    "print(len(brand_name),len(ROM_storage),len(primary_camera),len(Display_size),len(Battery_capacity),len(price_value),len(product_URL))\n"
   ]
  },
  {
   "cell_type": "code",
   "execution_count": 15,
   "id": "87610a1f",
   "metadata": {},
   "outputs": [
    {
     "name": "stdout",
     "output_type": "stream",
     "text": [
      "1\n"
     ]
    }
   ],
   "source": [
    "print(len(secondary_camera))"
   ]
  },
  {
   "cell_type": "code",
   "execution_count": 16,
   "id": "5f1440a4",
   "metadata": {},
   "outputs": [
    {
     "data": {
      "text/html": [
       "<div>\n",
       "<style scoped>\n",
       "    .dataframe tbody tr th:only-of-type {\n",
       "        vertical-align: middle;\n",
       "    }\n",
       "\n",
       "    .dataframe tbody tr th {\n",
       "        vertical-align: top;\n",
       "    }\n",
       "\n",
       "    .dataframe thead th {\n",
       "        text-align: right;\n",
       "    }\n",
       "</style>\n",
       "<table border=\"1\" class=\"dataframe\">\n",
       "  <thead>\n",
       "    <tr style=\"text-align: right;\">\n",
       "      <th></th>\n",
       "      <th>brand_name</th>\n",
       "      <th>ROM_storage</th>\n",
       "      <th>primary_camera</th>\n",
       "      <th>Display_size</th>\n",
       "      <th>Battery_capacity</th>\n",
       "      <th>price_value</th>\n",
       "      <th>product_URL</th>\n",
       "    </tr>\n",
       "  </thead>\n",
       "  <tbody>\n",
       "    <tr>\n",
       "      <th>0</th>\n",
       "      <td>APPLE iPhone 11 (Black, 128 GB)</td>\n",
       "      <td>128 GB ROM</td>\n",
       "      <td>12MP + 12MP | 12MP Front Camera</td>\n",
       "      <td>15.49 cm (6.1 inch) Liquid Retina HD Display</td>\n",
       "      <td>A13 Bionic Chip Processor</td>\n",
       "      <td>₹40,990</td>\n",
       "      <td>https://www.flipkart.com/apple-iphone-11-black...</td>\n",
       "    </tr>\n",
       "    <tr>\n",
       "      <th>1</th>\n",
       "      <td>APPLE iPhone 11 (White, 128 GB)</td>\n",
       "      <td>128 GB ROM</td>\n",
       "      <td>12MP + 12MP | 12MP Front Camera</td>\n",
       "      <td>15.49 cm (6.1 inch) Liquid Retina HD Display</td>\n",
       "      <td>A13 Bionic Chip Processor</td>\n",
       "      <td>₹41,990</td>\n",
       "      <td>https://www.flipkart.com/apple-iphone-11-white...</td>\n",
       "    </tr>\n",
       "    <tr>\n",
       "      <th>2</th>\n",
       "      <td>SAMSUNG Galaxy F13 (Waterfall Blue, 64 GB)</td>\n",
       "      <td>4 GB RAM | 64 GB ROM | Expandable Upto 1 TB</td>\n",
       "      <td>50MP + 5MP + 2MP | 8MP Front Camera</td>\n",
       "      <td>16.76 cm (6.6 inch) Full HD+ Display</td>\n",
       "      <td>6000 mAh Lithium Ion Battery</td>\n",
       "      <td>₹9,499</td>\n",
       "      <td>https://www.flipkart.com/samsung-galaxy-f13-wa...</td>\n",
       "    </tr>\n",
       "    <tr>\n",
       "      <th>3</th>\n",
       "      <td>I Kall Z15 (SKY Blue, 64 GB)</td>\n",
       "      <td>4 GB RAM | 64 GB ROM | Expandable Upto 64 GB</td>\n",
       "      <td>20MP Rear Camera | 13MP Front Camera</td>\n",
       "      <td>17.32 cm (6.82 inch) Display</td>\n",
       "      <td>5000 mAh Battery</td>\n",
       "      <td>₹7,124</td>\n",
       "      <td>https://www.flipkart.com/kall-z15-sky-blue-64-...</td>\n",
       "    </tr>\n",
       "    <tr>\n",
       "      <th>4</th>\n",
       "      <td>APPLE iPhone 11 (White, 64 GB)</td>\n",
       "      <td>64 GB ROM</td>\n",
       "      <td>12MP + 12MP | 12MP Front Camera</td>\n",
       "      <td>15.49 cm (6.1 inch) Liquid Retina HD Display</td>\n",
       "      <td>A13 Bionic Chip Processor</td>\n",
       "      <td>₹36,990</td>\n",
       "      <td>https://www.flipkart.com/apple-iphone-11-white...</td>\n",
       "    </tr>\n",
       "    <tr>\n",
       "      <th>5</th>\n",
       "      <td>SAMSUNG Galaxy F13 (Sunrise Copper, 64 GB)</td>\n",
       "      <td>4 GB RAM | 64 GB ROM | Expandable Upto 1 TB</td>\n",
       "      <td>50MP + 5MP + 2MP | 8MP Front Camera</td>\n",
       "      <td>16.76 cm (6.6 inch) Full HD+ Display</td>\n",
       "      <td>6000 mAh Lithium Ion Battery</td>\n",
       "      <td>₹9,499</td>\n",
       "      <td>https://www.flipkart.com/samsung-galaxy-f13-su...</td>\n",
       "    </tr>\n",
       "    <tr>\n",
       "      <th>6</th>\n",
       "      <td>APPLE iPhone 11 (Black, 64 GB)</td>\n",
       "      <td>64 GB ROM</td>\n",
       "      <td>12MP + 12MP | 12MP Front Camera</td>\n",
       "      <td>15.49 cm (6.1 inch) Liquid Retina HD Display</td>\n",
       "      <td>A13 Bionic Chip Processor</td>\n",
       "      <td>₹35,990</td>\n",
       "      <td>https://www.flipkart.com/apple-iphone-11-black...</td>\n",
       "    </tr>\n",
       "    <tr>\n",
       "      <th>7</th>\n",
       "      <td>I Kall Z2 Green (Green, 16 GB)</td>\n",
       "      <td>3 GB RAM | 16 GB ROM | Expandable Upto 64 GB</td>\n",
       "      <td>8MP Rear Camera | 5MP Front Camera</td>\n",
       "      <td>15.21 cm (5.99 inch) Display</td>\n",
       "      <td>4000 mAh Battery</td>\n",
       "      <td>₹4,749</td>\n",
       "      <td>https://www.flipkart.com/kall-z2-green-green-1...</td>\n",
       "    </tr>\n",
       "    <tr>\n",
       "      <th>8</th>\n",
       "      <td>APPLE iPhone 11 (Purple, 128 GB)</td>\n",
       "      <td>128 GB ROM</td>\n",
       "      <td>12MP + 12MP | 12MP Front Camera</td>\n",
       "      <td>15.49 cm (6.1 inch) Liquid Retina HD Display</td>\n",
       "      <td>A13 Bionic Chip Processor</td>\n",
       "      <td>₹40,990</td>\n",
       "      <td>https://www.flipkart.com/apple-iphone-11-purpl...</td>\n",
       "    </tr>\n",
       "    <tr>\n",
       "      <th>9</th>\n",
       "      <td>APPLE iPhone 11 (Green, 128 GB)</td>\n",
       "      <td>128 GB ROM</td>\n",
       "      <td>12MP + 12MP | 12MP Front Camera</td>\n",
       "      <td>15.49 cm (6.1 inch) Liquid Retina HD Display</td>\n",
       "      <td>A13 Bionic Chip Processor</td>\n",
       "      <td>₹40,990</td>\n",
       "      <td>https://www.flipkart.com/apple-iphone-11-green...</td>\n",
       "    </tr>\n",
       "    <tr>\n",
       "      <th>10</th>\n",
       "      <td>APPLE iPhone 11 (Red, 64 GB)</td>\n",
       "      <td>64 GB ROM</td>\n",
       "      <td>12MP + 12MP | 12MP Front Camera</td>\n",
       "      <td>15.49 cm (6.1 inch) Liquid Retina HD Display</td>\n",
       "      <td>A13 Bionic Chip Processor</td>\n",
       "      <td>₹36,990</td>\n",
       "      <td>https://www.flipkart.com/apple-iphone-11-red-6...</td>\n",
       "    </tr>\n",
       "    <tr>\n",
       "      <th>11</th>\n",
       "      <td>I Kall K401PRO (SKY BLUE, 64 GB)</td>\n",
       "      <td>4 GB RAM | 64 GB ROM | Expandable Upto 64 GB</td>\n",
       "      <td>16MP Rear Camera | 13MP Front Camera</td>\n",
       "      <td>15.9 cm (6.26 inch) Display</td>\n",
       "      <td>4000 mAh Battery</td>\n",
       "      <td>₹6,649</td>\n",
       "      <td>https://www.flipkart.com/kall-k401pro-sky-blue...</td>\n",
       "    </tr>\n",
       "    <tr>\n",
       "      <th>12</th>\n",
       "      <td>POCO C31 (Royal Blue, 32 GB)</td>\n",
       "      <td>3 GB RAM | 32 GB ROM | Expandable Upto 512 GB</td>\n",
       "      <td>13MP + 2MP + 2MP | 5MP Front Camera</td>\n",
       "      <td>16.59 cm (6.53 inch) HD+ Display</td>\n",
       "      <td>5000 mAh Lithium-ion Polymer Battery</td>\n",
       "      <td>₹6,666</td>\n",
       "      <td>https://www.flipkart.com/poco-c31-royal-blue-3...</td>\n",
       "    </tr>\n",
       "    <tr>\n",
       "      <th>13</th>\n",
       "      <td>REDMI 10 (Pacific Blue, 64 GB)</td>\n",
       "      <td>4 GB RAM | 64 GB ROM | Expandable Upto 1 TB</td>\n",
       "      <td>50MP + 2MP | 5MP Front Camera</td>\n",
       "      <td>17.02 cm (6.7 inch) HD+ Display</td>\n",
       "      <td>6000 mAh Lithium Polymer Battery</td>\n",
       "      <td>₹8,999</td>\n",
       "      <td>https://www.flipkart.com/redmi-10-pacific-blue...</td>\n",
       "    </tr>\n",
       "    <tr>\n",
       "      <th>14</th>\n",
       "      <td>SAMSUNG Galaxy F13 (Nightsky Green, 64 GB)</td>\n",
       "      <td>4 GB RAM | 64 GB ROM | Expandable Upto 1 TB</td>\n",
       "      <td>50MP + 5MP + 2MP | 8MP Front Camera</td>\n",
       "      <td>16.76 cm (6.6 inch) Full HD+ Display</td>\n",
       "      <td>6000 mAh Lithium Ion Battery</td>\n",
       "      <td>₹9,499</td>\n",
       "      <td>https://www.flipkart.com/samsung-galaxy-f13-ni...</td>\n",
       "    </tr>\n",
       "    <tr>\n",
       "      <th>15</th>\n",
       "      <td>I Kall Z5 (Green, 16 GB)</td>\n",
       "      <td>3 GB RAM | 16 GB ROM</td>\n",
       "      <td>8MP Rear Camera | 5MP Front Camera</td>\n",
       "      <td>13.84 cm (5.45 inch) Display</td>\n",
       "      <td>3000 mAh Battery</td>\n",
       "      <td>₹4,464</td>\n",
       "      <td>https://www.flipkart.com/kall-z5-green-16-gb/p...</td>\n",
       "    </tr>\n",
       "    <tr>\n",
       "      <th>16</th>\n",
       "      <td>APPLE iPhone 11 (Purple, 64 GB)</td>\n",
       "      <td>64 GB ROM</td>\n",
       "      <td>12MP + 12MP | 12MP Front Camera</td>\n",
       "      <td>15.49 cm (6.1 inch) Liquid Retina HD Display</td>\n",
       "      <td>A13 Bionic Chip Processor</td>\n",
       "      <td>₹35,990</td>\n",
       "      <td>https://www.flipkart.com/apple-iphone-11-purpl...</td>\n",
       "    </tr>\n",
       "    <tr>\n",
       "      <th>17</th>\n",
       "      <td>REDMI 10 (Midnight Black, 64 GB)</td>\n",
       "      <td>4 GB RAM | 64 GB ROM | Expandable Upto 1 TB</td>\n",
       "      <td>50MP + 2MP | 5MP Front Camera</td>\n",
       "      <td>17.02 cm (6.7 inch) HD+ Display</td>\n",
       "      <td>6000 mAh Lithium Polymer Battery</td>\n",
       "      <td>₹8,999</td>\n",
       "      <td>https://www.flipkart.com/redmi-10-midnight-bla...</td>\n",
       "    </tr>\n",
       "    <tr>\n",
       "      <th>18</th>\n",
       "      <td>POCO C31 (Shadow Gray, 32 GB)</td>\n",
       "      <td>3 GB RAM | 32 GB ROM | Expandable Upto 512 GB</td>\n",
       "      <td>13MP + 2MP + 2MP | 5MP Front Camera</td>\n",
       "      <td>16.59 cm (6.53 inch) HD+ Display</td>\n",
       "      <td>5000 mAh Lithium-ion Polymer Battery</td>\n",
       "      <td>₹6,666</td>\n",
       "      <td>https://www.flipkart.com/poco-c31-shadow-gray-...</td>\n",
       "    </tr>\n",
       "    <tr>\n",
       "      <th>19</th>\n",
       "      <td>I Kall Z2 PRO (Dark Blue, 16 GB)</td>\n",
       "      <td>3 GB RAM | 16 GB ROM | Expandable Upto 64 GB</td>\n",
       "      <td>8MP Rear Camera | 5MP Front Camera</td>\n",
       "      <td>15.21 cm (5.99 inch) Display</td>\n",
       "      <td>4000 mAh Battery</td>\n",
       "      <td>₹4,749</td>\n",
       "      <td>https://www.flipkart.com/kall-z2-pro-dark-blue...</td>\n",
       "    </tr>\n",
       "    <tr>\n",
       "      <th>20</th>\n",
       "      <td>POCO C31 (Royal Blue, 64 GB)</td>\n",
       "      <td>4 GB RAM | 64 GB ROM | Expandable Upto 512 GB</td>\n",
       "      <td>13MP + 2MP + 2MP | 5MP Front Camera</td>\n",
       "      <td>16.59 cm (6.53 inch) HD+ Display</td>\n",
       "      <td>5000 mAh Lithium-ion Polymer Battery</td>\n",
       "      <td>₹7,777</td>\n",
       "      <td>https://www.flipkart.com/poco-c31-royal-blue-6...</td>\n",
       "    </tr>\n",
       "    <tr>\n",
       "      <th>21</th>\n",
       "      <td>realme C35 (Glowing Black, 64 GB)</td>\n",
       "      <td>4 GB RAM | 64 GB ROM | Expandable Upto 1 TB</td>\n",
       "      <td>50MP + 2MP + 0.3MP | 8MP Front Camera</td>\n",
       "      <td>16.76 cm (6.6 inch) Full HD+ Display</td>\n",
       "      <td>5000 mAh Lithium Polymer Battery</td>\n",
       "      <td>₹11,110</td>\n",
       "      <td>https://www.flipkart.com/realme-c35-glowing-bl...</td>\n",
       "    </tr>\n",
       "    <tr>\n",
       "      <th>22</th>\n",
       "      <td>SAMSUNG Galaxy S21 FE 5G (Olive, 128 GB)</td>\n",
       "      <td>8 GB RAM | 128 GB ROM</td>\n",
       "      <td>12MP + 12MP + 8MP (OIS) | 32MP Front Camera</td>\n",
       "      <td>16.26 cm (6.4 inch) Full HD+ Display</td>\n",
       "      <td>4500 mAh Lithium-ion Battery</td>\n",
       "      <td>₹34,999</td>\n",
       "      <td>https://www.flipkart.com/samsung-galaxy-s21-fe...</td>\n",
       "    </tr>\n",
       "    <tr>\n",
       "      <th>23</th>\n",
       "      <td>I Kall K401 PRO (Green, 64 GB)</td>\n",
       "      <td>4 GB RAM | 64 GB ROM</td>\n",
       "      <td>16MP Rear Camera</td>\n",
       "      <td>15.9 cm (6.26 inch) Display</td>\n",
       "      <td>4000 mAh Battery</td>\n",
       "      <td>₹6,649</td>\n",
       "      <td>https://www.flipkart.com/kall-k401-pro-green-6...</td>\n",
       "    </tr>\n",
       "  </tbody>\n",
       "</table>\n",
       "</div>"
      ],
      "text/plain": [
       "                                    brand_name  \\\n",
       "0              APPLE iPhone 11 (Black, 128 GB)   \n",
       "1              APPLE iPhone 11 (White, 128 GB)   \n",
       "2   SAMSUNG Galaxy F13 (Waterfall Blue, 64 GB)   \n",
       "3                 I Kall Z15 (SKY Blue, 64 GB)   \n",
       "4               APPLE iPhone 11 (White, 64 GB)   \n",
       "5   SAMSUNG Galaxy F13 (Sunrise Copper, 64 GB)   \n",
       "6               APPLE iPhone 11 (Black, 64 GB)   \n",
       "7               I Kall Z2 Green (Green, 16 GB)   \n",
       "8             APPLE iPhone 11 (Purple, 128 GB)   \n",
       "9              APPLE iPhone 11 (Green, 128 GB)   \n",
       "10                APPLE iPhone 11 (Red, 64 GB)   \n",
       "11            I Kall K401PRO (SKY BLUE, 64 GB)   \n",
       "12                POCO C31 (Royal Blue, 32 GB)   \n",
       "13              REDMI 10 (Pacific Blue, 64 GB)   \n",
       "14  SAMSUNG Galaxy F13 (Nightsky Green, 64 GB)   \n",
       "15                    I Kall Z5 (Green, 16 GB)   \n",
       "16             APPLE iPhone 11 (Purple, 64 GB)   \n",
       "17            REDMI 10 (Midnight Black, 64 GB)   \n",
       "18               POCO C31 (Shadow Gray, 32 GB)   \n",
       "19            I Kall Z2 PRO (Dark Blue, 16 GB)   \n",
       "20                POCO C31 (Royal Blue, 64 GB)   \n",
       "21           realme C35 (Glowing Black, 64 GB)   \n",
       "22    SAMSUNG Galaxy S21 FE 5G (Olive, 128 GB)   \n",
       "23              I Kall K401 PRO (Green, 64 GB)   \n",
       "\n",
       "                                      ROM_storage  \\\n",
       "0                                      128 GB ROM   \n",
       "1                                      128 GB ROM   \n",
       "2     4 GB RAM | 64 GB ROM | Expandable Upto 1 TB   \n",
       "3    4 GB RAM | 64 GB ROM | Expandable Upto 64 GB   \n",
       "4                                       64 GB ROM   \n",
       "5     4 GB RAM | 64 GB ROM | Expandable Upto 1 TB   \n",
       "6                                       64 GB ROM   \n",
       "7    3 GB RAM | 16 GB ROM | Expandable Upto 64 GB   \n",
       "8                                      128 GB ROM   \n",
       "9                                      128 GB ROM   \n",
       "10                                      64 GB ROM   \n",
       "11   4 GB RAM | 64 GB ROM | Expandable Upto 64 GB   \n",
       "12  3 GB RAM | 32 GB ROM | Expandable Upto 512 GB   \n",
       "13    4 GB RAM | 64 GB ROM | Expandable Upto 1 TB   \n",
       "14    4 GB RAM | 64 GB ROM | Expandable Upto 1 TB   \n",
       "15                           3 GB RAM | 16 GB ROM   \n",
       "16                                      64 GB ROM   \n",
       "17    4 GB RAM | 64 GB ROM | Expandable Upto 1 TB   \n",
       "18  3 GB RAM | 32 GB ROM | Expandable Upto 512 GB   \n",
       "19   3 GB RAM | 16 GB ROM | Expandable Upto 64 GB   \n",
       "20  4 GB RAM | 64 GB ROM | Expandable Upto 512 GB   \n",
       "21    4 GB RAM | 64 GB ROM | Expandable Upto 1 TB   \n",
       "22                          8 GB RAM | 128 GB ROM   \n",
       "23                           4 GB RAM | 64 GB ROM   \n",
       "\n",
       "                                 primary_camera  \\\n",
       "0               12MP + 12MP | 12MP Front Camera   \n",
       "1               12MP + 12MP | 12MP Front Camera   \n",
       "2           50MP + 5MP + 2MP | 8MP Front Camera   \n",
       "3          20MP Rear Camera | 13MP Front Camera   \n",
       "4               12MP + 12MP | 12MP Front Camera   \n",
       "5           50MP + 5MP + 2MP | 8MP Front Camera   \n",
       "6               12MP + 12MP | 12MP Front Camera   \n",
       "7            8MP Rear Camera | 5MP Front Camera   \n",
       "8               12MP + 12MP | 12MP Front Camera   \n",
       "9               12MP + 12MP | 12MP Front Camera   \n",
       "10              12MP + 12MP | 12MP Front Camera   \n",
       "11         16MP Rear Camera | 13MP Front Camera   \n",
       "12          13MP + 2MP + 2MP | 5MP Front Camera   \n",
       "13                50MP + 2MP | 5MP Front Camera   \n",
       "14          50MP + 5MP + 2MP | 8MP Front Camera   \n",
       "15           8MP Rear Camera | 5MP Front Camera   \n",
       "16              12MP + 12MP | 12MP Front Camera   \n",
       "17                50MP + 2MP | 5MP Front Camera   \n",
       "18          13MP + 2MP + 2MP | 5MP Front Camera   \n",
       "19           8MP Rear Camera | 5MP Front Camera   \n",
       "20          13MP + 2MP + 2MP | 5MP Front Camera   \n",
       "21        50MP + 2MP + 0.3MP | 8MP Front Camera   \n",
       "22  12MP + 12MP + 8MP (OIS) | 32MP Front Camera   \n",
       "23                             16MP Rear Camera   \n",
       "\n",
       "                                    Display_size  \\\n",
       "0   15.49 cm (6.1 inch) Liquid Retina HD Display   \n",
       "1   15.49 cm (6.1 inch) Liquid Retina HD Display   \n",
       "2           16.76 cm (6.6 inch) Full HD+ Display   \n",
       "3                   17.32 cm (6.82 inch) Display   \n",
       "4   15.49 cm (6.1 inch) Liquid Retina HD Display   \n",
       "5           16.76 cm (6.6 inch) Full HD+ Display   \n",
       "6   15.49 cm (6.1 inch) Liquid Retina HD Display   \n",
       "7                   15.21 cm (5.99 inch) Display   \n",
       "8   15.49 cm (6.1 inch) Liquid Retina HD Display   \n",
       "9   15.49 cm (6.1 inch) Liquid Retina HD Display   \n",
       "10  15.49 cm (6.1 inch) Liquid Retina HD Display   \n",
       "11                   15.9 cm (6.26 inch) Display   \n",
       "12              16.59 cm (6.53 inch) HD+ Display   \n",
       "13               17.02 cm (6.7 inch) HD+ Display   \n",
       "14          16.76 cm (6.6 inch) Full HD+ Display   \n",
       "15                  13.84 cm (5.45 inch) Display   \n",
       "16  15.49 cm (6.1 inch) Liquid Retina HD Display   \n",
       "17               17.02 cm (6.7 inch) HD+ Display   \n",
       "18              16.59 cm (6.53 inch) HD+ Display   \n",
       "19                  15.21 cm (5.99 inch) Display   \n",
       "20              16.59 cm (6.53 inch) HD+ Display   \n",
       "21          16.76 cm (6.6 inch) Full HD+ Display   \n",
       "22          16.26 cm (6.4 inch) Full HD+ Display   \n",
       "23                   15.9 cm (6.26 inch) Display   \n",
       "\n",
       "                        Battery_capacity price_value  \\\n",
       "0              A13 Bionic Chip Processor     ₹40,990   \n",
       "1              A13 Bionic Chip Processor     ₹41,990   \n",
       "2           6000 mAh Lithium Ion Battery      ₹9,499   \n",
       "3                       5000 mAh Battery      ₹7,124   \n",
       "4              A13 Bionic Chip Processor     ₹36,990   \n",
       "5           6000 mAh Lithium Ion Battery      ₹9,499   \n",
       "6              A13 Bionic Chip Processor     ₹35,990   \n",
       "7                       4000 mAh Battery      ₹4,749   \n",
       "8              A13 Bionic Chip Processor     ₹40,990   \n",
       "9              A13 Bionic Chip Processor     ₹40,990   \n",
       "10             A13 Bionic Chip Processor     ₹36,990   \n",
       "11                      4000 mAh Battery      ₹6,649   \n",
       "12  5000 mAh Lithium-ion Polymer Battery      ₹6,666   \n",
       "13      6000 mAh Lithium Polymer Battery      ₹8,999   \n",
       "14          6000 mAh Lithium Ion Battery      ₹9,499   \n",
       "15                      3000 mAh Battery      ₹4,464   \n",
       "16             A13 Bionic Chip Processor     ₹35,990   \n",
       "17      6000 mAh Lithium Polymer Battery      ₹8,999   \n",
       "18  5000 mAh Lithium-ion Polymer Battery      ₹6,666   \n",
       "19                      4000 mAh Battery      ₹4,749   \n",
       "20  5000 mAh Lithium-ion Polymer Battery      ₹7,777   \n",
       "21      5000 mAh Lithium Polymer Battery     ₹11,110   \n",
       "22          4500 mAh Lithium-ion Battery     ₹34,999   \n",
       "23                      4000 mAh Battery      ₹6,649   \n",
       "\n",
       "                                          product_URL  \n",
       "0   https://www.flipkart.com/apple-iphone-11-black...  \n",
       "1   https://www.flipkart.com/apple-iphone-11-white...  \n",
       "2   https://www.flipkart.com/samsung-galaxy-f13-wa...  \n",
       "3   https://www.flipkart.com/kall-z15-sky-blue-64-...  \n",
       "4   https://www.flipkart.com/apple-iphone-11-white...  \n",
       "5   https://www.flipkart.com/samsung-galaxy-f13-su...  \n",
       "6   https://www.flipkart.com/apple-iphone-11-black...  \n",
       "7   https://www.flipkart.com/kall-z2-green-green-1...  \n",
       "8   https://www.flipkart.com/apple-iphone-11-purpl...  \n",
       "9   https://www.flipkart.com/apple-iphone-11-green...  \n",
       "10  https://www.flipkart.com/apple-iphone-11-red-6...  \n",
       "11  https://www.flipkart.com/kall-k401pro-sky-blue...  \n",
       "12  https://www.flipkart.com/poco-c31-royal-blue-3...  \n",
       "13  https://www.flipkart.com/redmi-10-pacific-blue...  \n",
       "14  https://www.flipkart.com/samsung-galaxy-f13-ni...  \n",
       "15  https://www.flipkart.com/kall-z5-green-16-gb/p...  \n",
       "16  https://www.flipkart.com/apple-iphone-11-purpl...  \n",
       "17  https://www.flipkart.com/redmi-10-midnight-bla...  \n",
       "18  https://www.flipkart.com/poco-c31-shadow-gray-...  \n",
       "19  https://www.flipkart.com/kall-z2-pro-dark-blue...  \n",
       "20  https://www.flipkart.com/poco-c31-royal-blue-6...  \n",
       "21  https://www.flipkart.com/realme-c35-glowing-bl...  \n",
       "22  https://www.flipkart.com/samsung-galaxy-s21-fe...  \n",
       "23  https://www.flipkart.com/kall-k401-pro-green-6...  "
      ]
     },
     "execution_count": 16,
     "metadata": {},
     "output_type": "execute_result"
    }
   ],
   "source": [
    "df=pd.DataFrame({'brand_name':brand_name,'ROM_storage':ROM_storage,'primary_camera':primary_camera,'Display_size':Display_size,'Battery_capacity':Battery_capacity,'price_value':price_value,'product_URL':product_URL})\n",
    "df"
   ]
  },
  {
   "cell_type": "code",
   "execution_count": 17,
   "id": "e712c534",
   "metadata": {},
   "outputs": [],
   "source": [
    "df.to_csv(\"flipcart_smartphones\")"
   ]
  },
  {
   "cell_type": "code",
   "execution_count": 18,
   "id": "b2779339",
   "metadata": {},
   "outputs": [],
   "source": [
    "driver.close()"
   ]
  },
  {
   "cell_type": "code",
   "execution_count": null,
   "id": "fdce78cb",
   "metadata": {},
   "outputs": [],
   "source": []
  },
  {
   "cell_type": "markdown",
   "id": "0e72dea5",
   "metadata": {},
   "source": [
    "# 8. Write a python program to scrape the details for all billionaires from www.forbes.com. Details to be scrapped: “Rank”, “Name”, “Net worth”, “Age”, “Citizenship”, “Source”, “Industry”."
   ]
  },
  {
   "cell_type": "code",
   "execution_count": 1,
   "id": "b554e978",
   "metadata": {},
   "outputs": [],
   "source": [
    "import selenium\n",
    "import pandas as pd\n",
    "from selenium import webdriver\n",
    "import warnings\n",
    "warnings.filterwarnings('ignore')\n",
    "from selenium.common.exceptions import StaleElementReferenceException, NoSuchElementException\n",
    "from selenium.webdriver.common.by import By\n",
    "\n",
    "import time"
   ]
  },
  {
   "cell_type": "code",
   "execution_count": 2,
   "id": "a060e5d5",
   "metadata": {},
   "outputs": [],
   "source": [
    "# first connect to the browser\n",
    "driver = webdriver.Chrome(r\"C:\\Users\\Dell\\Downloads\\chromedriver_win32\\chromedriver.exe\"  )"
   ]
  },
  {
   "cell_type": "code",
   "execution_count": 3,
   "id": "3754c27f",
   "metadata": {},
   "outputs": [],
   "source": [
    "#opening this page from automated chrome browser\n",
    "driver.get(\"https://www.forbes.com\")"
   ]
  },
  {
   "cell_type": "code",
   "execution_count": 4,
   "id": "7f1e1281",
   "metadata": {},
   "outputs": [],
   "source": [
    "Billionaires_button=driver.find_element(By.XPATH,\"/html/body/div[1]/main/section[8]/div[1]\")\n",
    "Billionaires_button.click()"
   ]
  },
  {
   "cell_type": "code",
   "execution_count": 5,
   "id": "7adb6c1b",
   "metadata": {},
   "outputs": [],
   "source": [
    "world_billionaires_button = driver.find_element(By.XPATH,\"/html/body/div[1]/main/div/section/section[1]/div/div/div[1]/div/div[1]/div[1]/div[2]/a/h2\")\n",
    "world_billionaires_button.click()"
   ]
  },
  {
   "cell_type": "code",
   "execution_count": 8,
   "id": "bb34e748",
   "metadata": {},
   "outputs": [],
   "source": [
    "Rank_no = []\n",
    "Name_list = []\n",
    "Net_worth = [] \n",
    "Age_list = []\n",
    "Citizenship_list = []\n",
    "Source_list = []\n",
    "Industry_list = []"
   ]
  },
  {
   "cell_type": "code",
   "execution_count": 9,
   "id": "25f56a71",
   "metadata": {},
   "outputs": [],
   "source": [
    "Rank_tags=driver.find_elements(By.XPATH,\"//div[@class='rank']\")\n",
    "for i in Rank_tags[0:200]:\n",
    "    Rank=i.text\n",
    "    Rank_no.append(Rank)\n",
    "\n",
    "Name_tags=driver.find_elements(By.XPATH,\"//div[@class='personName']\")\n",
    "for i in Name_tags[0:200]:\n",
    "    Name=i.text\n",
    "    Name_list.append(Name)\n",
    "    \n",
    "\n",
    "Net_tags=driver.find_elements(By.XPATH,\"//div[@class='netWorth']\")\n",
    "for i in Net_tags[0:200]:\n",
    "    Net=i.text\n",
    "    Net_worth.append(Net)\n",
    "Age_tags=driver.find_elements(By.XPATH,\"//div[@class='age']\")\n",
    "for i in Age_tags[0:200]:\n",
    "    Age=i.text\n",
    "    Age_list.append(Age)\n",
    "\n",
    "Citizenship_tags=driver.find_elements(By.XPATH,\"//div[@class='countryOfCitizenship']\")\n",
    "for i in Citizenship_tags[0:200]:\n",
    "    Citizenship=i.text\n",
    "    Citizenship_list.append(Citizenship)\n",
    "    \n",
    "Source_tags=driver.find_elements(By.XPATH,\"//span[@class='source-text']\")\n",
    "for i in Source_tags[0:200]:\n",
    "    Source=i.text\n",
    "    Source_list.append(Source)    \n",
    "\n",
    "Industry_tags=driver.find_elements(By.XPATH,\"//div[@class='category']\")\n",
    "for i in Industry_tags[0:200]:\n",
    "    Industry=i.text\n",
    "    Industry_list.append(Industry)  \n",
    "    "
   ]
  },
  {
   "cell_type": "code",
   "execution_count": 10,
   "id": "90357998",
   "metadata": {},
   "outputs": [
    {
     "name": "stdout",
     "output_type": "stream",
     "text": [
      "200 200 200 200 200 200 200\n"
     ]
    }
   ],
   "source": [
    "print(len(Rank_no),len(Name_list),len(Net_worth),len(Age_list),len(Citizenship_list),len(Source_list),len(Industry_list))"
   ]
  },
  {
   "cell_type": "code",
   "execution_count": 12,
   "id": "3f19bb18",
   "metadata": {},
   "outputs": [],
   "source": [
    "df = pd.DataFrame({'Rank_no':Rank_no,'Name_list':Name_list,'Net_worth':Net_worth,'Age_list':Age_list,'Citizenship_list':Citizenship_list,'Source_list':Source_list,'Industry_list':Industry_list})"
   ]
  },
  {
   "cell_type": "code",
   "execution_count": 13,
   "id": "e4640bdf",
   "metadata": {},
   "outputs": [
    {
     "data": {
      "text/html": [
       "<div>\n",
       "<style scoped>\n",
       "    .dataframe tbody tr th:only-of-type {\n",
       "        vertical-align: middle;\n",
       "    }\n",
       "\n",
       "    .dataframe tbody tr th {\n",
       "        vertical-align: top;\n",
       "    }\n",
       "\n",
       "    .dataframe thead th {\n",
       "        text-align: right;\n",
       "    }\n",
       "</style>\n",
       "<table border=\"1\" class=\"dataframe\">\n",
       "  <thead>\n",
       "    <tr style=\"text-align: right;\">\n",
       "      <th></th>\n",
       "      <th>Rank_no</th>\n",
       "      <th>Name_list</th>\n",
       "      <th>Net_worth</th>\n",
       "      <th>Age_list</th>\n",
       "      <th>Citizenship_list</th>\n",
       "      <th>Source_list</th>\n",
       "      <th>Industry_list</th>\n",
       "    </tr>\n",
       "  </thead>\n",
       "  <tbody>\n",
       "    <tr>\n",
       "      <th>0</th>\n",
       "      <td>1.</td>\n",
       "      <td>Elon Musk</td>\n",
       "      <td>$219 B</td>\n",
       "      <td>50</td>\n",
       "      <td>United States</td>\n",
       "      <td>Tesla, SpaceX</td>\n",
       "      <td>Automotive</td>\n",
       "    </tr>\n",
       "    <tr>\n",
       "      <th>1</th>\n",
       "      <td>2.</td>\n",
       "      <td>Jeff Bezos</td>\n",
       "      <td>$171 B</td>\n",
       "      <td>58</td>\n",
       "      <td>United States</td>\n",
       "      <td>Amazon</td>\n",
       "      <td>Technology</td>\n",
       "    </tr>\n",
       "    <tr>\n",
       "      <th>2</th>\n",
       "      <td>3.</td>\n",
       "      <td>Bernard Arnault &amp; family</td>\n",
       "      <td>$158 B</td>\n",
       "      <td>73</td>\n",
       "      <td>France</td>\n",
       "      <td>LVMH</td>\n",
       "      <td>Fashion &amp; Retail</td>\n",
       "    </tr>\n",
       "    <tr>\n",
       "      <th>3</th>\n",
       "      <td>4.</td>\n",
       "      <td>Bill Gates</td>\n",
       "      <td>$129 B</td>\n",
       "      <td>66</td>\n",
       "      <td>United States</td>\n",
       "      <td>Microsoft</td>\n",
       "      <td>Technology</td>\n",
       "    </tr>\n",
       "    <tr>\n",
       "      <th>4</th>\n",
       "      <td>5.</td>\n",
       "      <td>Warren Buffett</td>\n",
       "      <td>$118 B</td>\n",
       "      <td>91</td>\n",
       "      <td>United States</td>\n",
       "      <td>Berkshire Hathaway</td>\n",
       "      <td>Finance &amp; Investments</td>\n",
       "    </tr>\n",
       "    <tr>\n",
       "      <th>...</th>\n",
       "      <td>...</td>\n",
       "      <td>...</td>\n",
       "      <td>...</td>\n",
       "      <td>...</td>\n",
       "      <td>...</td>\n",
       "      <td>...</td>\n",
       "      <td>...</td>\n",
       "    </tr>\n",
       "    <tr>\n",
       "      <th>195</th>\n",
       "      <td>192.</td>\n",
       "      <td>Marcel Herrmann Telles</td>\n",
       "      <td>$10.3 B</td>\n",
       "      <td>72</td>\n",
       "      <td>Brazil</td>\n",
       "      <td>beer</td>\n",
       "      <td>Food &amp; Beverage</td>\n",
       "    </tr>\n",
       "    <tr>\n",
       "      <th>196</th>\n",
       "      <td>197.</td>\n",
       "      <td>Leon Black</td>\n",
       "      <td>$10 B</td>\n",
       "      <td>70</td>\n",
       "      <td>United States</td>\n",
       "      <td>private equity</td>\n",
       "      <td>Finance &amp; Investments</td>\n",
       "    </tr>\n",
       "    <tr>\n",
       "      <th>197</th>\n",
       "      <td>197.</td>\n",
       "      <td>Joe Gebbia</td>\n",
       "      <td>$10 B</td>\n",
       "      <td>40</td>\n",
       "      <td>United States</td>\n",
       "      <td>Airbnb</td>\n",
       "      <td>Technology</td>\n",
       "    </tr>\n",
       "    <tr>\n",
       "      <th>198</th>\n",
       "      <td>197.</td>\n",
       "      <td>David Geffen</td>\n",
       "      <td>$10 B</td>\n",
       "      <td>79</td>\n",
       "      <td>United States</td>\n",
       "      <td>movies, record labels</td>\n",
       "      <td>Media &amp; Entertainment</td>\n",
       "    </tr>\n",
       "    <tr>\n",
       "      <th>199</th>\n",
       "      <td>197.</td>\n",
       "      <td>Yu Renrong</td>\n",
       "      <td>$10 B</td>\n",
       "      <td>56</td>\n",
       "      <td>China</td>\n",
       "      <td>semiconductors</td>\n",
       "      <td>Manufacturing</td>\n",
       "    </tr>\n",
       "  </tbody>\n",
       "</table>\n",
       "<p>200 rows × 7 columns</p>\n",
       "</div>"
      ],
      "text/plain": [
       "    Rank_no                 Name_list Net_worth Age_list Citizenship_list  \\\n",
       "0        1.                 Elon Musk    $219 B       50    United States   \n",
       "1        2.                Jeff Bezos    $171 B       58    United States   \n",
       "2        3.  Bernard Arnault & family    $158 B       73           France   \n",
       "3        4.                Bill Gates    $129 B       66    United States   \n",
       "4        5.            Warren Buffett    $118 B       91    United States   \n",
       "..      ...                       ...       ...      ...              ...   \n",
       "195    192.    Marcel Herrmann Telles   $10.3 B       72           Brazil   \n",
       "196    197.                Leon Black     $10 B       70    United States   \n",
       "197    197.                Joe Gebbia     $10 B       40    United States   \n",
       "198    197.              David Geffen     $10 B       79    United States   \n",
       "199    197.                Yu Renrong     $10 B       56            China   \n",
       "\n",
       "               Source_list          Industry_list  \n",
       "0            Tesla, SpaceX             Automotive  \n",
       "1                   Amazon             Technology  \n",
       "2                     LVMH       Fashion & Retail  \n",
       "3                Microsoft             Technology  \n",
       "4       Berkshire Hathaway  Finance & Investments  \n",
       "..                     ...                    ...  \n",
       "195                   beer        Food & Beverage  \n",
       "196         private equity  Finance & Investments  \n",
       "197                 Airbnb             Technology  \n",
       "198  movies, record labels  Media & Entertainment  \n",
       "199         semiconductors          Manufacturing  \n",
       "\n",
       "[200 rows x 7 columns]"
      ]
     },
     "execution_count": 13,
     "metadata": {},
     "output_type": "execute_result"
    }
   ],
   "source": [
    "df"
   ]
  },
  {
   "cell_type": "code",
   "execution_count": 14,
   "id": "4e296a6e",
   "metadata": {},
   "outputs": [],
   "source": [
    "driver.close()"
   ]
  },
  {
   "cell_type": "code",
   "execution_count": null,
   "id": "b1fd56af",
   "metadata": {},
   "outputs": [],
   "source": []
  },
  {
   "cell_type": "markdown",
   "id": "c57af7ee",
   "metadata": {},
   "source": [
    "# 6..Write a program to scrap details of all the funding deals for second quarter (i.e Jan 21 – March 21) from trak.in."
   ]
  },
  {
   "cell_type": "code",
   "execution_count": 28,
   "id": "6bd247ba",
   "metadata": {},
   "outputs": [],
   "source": [
    "import selenium\n",
    "import pandas as pd\n",
    "from selenium import webdriver\n",
    "import warnings\n",
    "warnings.filterwarnings('ignore')\n",
    "from selenium.common.exceptions import StaleElementReferenceException, NoSuchElementException\n",
    "from selenium.webdriver.common.by import By\n",
    "\n",
    "import time"
   ]
  },
  {
   "cell_type": "code",
   "execution_count": 29,
   "id": "9dffd187",
   "metadata": {},
   "outputs": [],
   "source": [
    "driver = webdriver.Chrome(r\"C:\\Users\\Dell\\Downloads\\chromedriver_win32\\chromedriver.exe\"  )"
   ]
  },
  {
   "cell_type": "code",
   "execution_count": 30,
   "id": "cb131b11",
   "metadata": {},
   "outputs": [],
   "source": [
    "#opening this page from automated chrome browser\n",
    "driver.get(\"https://trak.in/india-startup-funding-investment-2015/\")"
   ]
  },
  {
   "cell_type": "code",
   "execution_count": null,
   "id": "cd010f76",
   "metadata": {},
   "outputs": [],
   "source": []
  },
  {
   "cell_type": "code",
   "execution_count": null,
   "id": "73f97206",
   "metadata": {},
   "outputs": [],
   "source": []
  },
  {
   "cell_type": "markdown",
   "id": "5959fff9",
   "metadata": {},
   "source": [
    "# 5....Write a program to scrap geospatial coordinates (latitude, longitude) of a city searched on google maps.\n"
   ]
  },
  {
   "cell_type": "code",
   "execution_count": 31,
   "id": "147053eb",
   "metadata": {},
   "outputs": [],
   "source": [
    "import selenium\n",
    "import pandas as pd\n",
    "from selenium import webdriver\n",
    "import warnings\n",
    "warnings.filterwarnings('ignore')\n",
    "from selenium.common.exceptions import StaleElementReferenceException, NoSuchElementException\n",
    "from selenium.webdriver.common.by import By\n",
    "\n",
    "import time"
   ]
  },
  {
   "cell_type": "code",
   "execution_count": 32,
   "id": "adae274b",
   "metadata": {},
   "outputs": [],
   "source": [
    "driver = webdriver.Chrome(r\"C:\\Users\\Dell\\Downloads\\chromedriver_win32\\chromedriver.exe\"  )"
   ]
  },
  {
   "cell_type": "code",
   "execution_count": 33,
   "id": "b9f184e3",
   "metadata": {},
   "outputs": [],
   "source": [
    "#opening this page from automated chrome browser\n",
    "driver.get(\"https://www.google.com/maps/\")"
   ]
  },
  {
   "cell_type": "code",
   "execution_count": 34,
   "id": "558728b7",
   "metadata": {},
   "outputs": [],
   "source": [
    "element=driver.find_element(By.CLASS_NAME,\"tactile-searchbox-input\")\n",
    "element.send_keys('noida')"
   ]
  },
  {
   "cell_type": "code",
   "execution_count": 35,
   "id": "0980ea7f",
   "metadata": {},
   "outputs": [],
   "source": [
    "search=driver.find_element(By.CLASS_NAME,\"mL3xi\")\n",
    "search.click()"
   ]
  },
  {
   "cell_type": "code",
   "execution_count": 36,
   "id": "6f7764e9",
   "metadata": {},
   "outputs": [
    {
     "name": "stdout",
     "output_type": "stream",
     "text": [
      "URL Extracted:  https://www.google.com/maps/place/Noida,+Uttar+Pradesh/@28.5167536,77.4011651,11z/data=!3m1!4b1!4m6!3m5!1s0x390ce5a43173357b:0x37ffce30c87cc03f!8m2!3d28.5355161!4d77.3910265!16zL20vMDN3dHow\n",
      "Error:  name 're' is not defined\n"
     ]
    }
   ],
   "source": [
    "try:\n",
    "    url_string = driver.current_url\n",
    "    print(\"URL Extracted: \", url_string)\n",
    "    lat_lng = re.findall(r'@(.*)data',url_string)\n",
    "    if len(lat_lng):\n",
    "        lat_lng_list = lat_lng[0].split(\",\")\n",
    "        if len(lat_lng_list)>=2:\n",
    "            lat = lat_lng_list[0]\n",
    "            lng = lat_lng_list[1]\n",
    "        print(\"Latitude = {}, Longitude = {}\".format(lat, lng))\n",
    "        \n",
    "except Exception as e:\n",
    "        print(\"Error: \", str(e))"
   ]
  },
  {
   "cell_type": "code",
   "execution_count": 37,
   "id": "18c60a99",
   "metadata": {},
   "outputs": [],
   "source": [
    "driver.close()"
   ]
  },
  {
   "cell_type": "code",
   "execution_count": null,
   "id": "700c3441",
   "metadata": {},
   "outputs": [],
   "source": []
  },
  {
   "cell_type": "markdown",
   "id": "4847f73d",
   "metadata": {},
   "source": [
    "# 9. Write a program to extract at least 500 Comments, Comment upvote and time when comment was posted from any YouTube Video"
   ]
  },
  {
   "cell_type": "code",
   "execution_count": 38,
   "id": "d658a019",
   "metadata": {},
   "outputs": [],
   "source": [
    "import selenium\n",
    "import pandas as pd\n",
    "from selenium import webdriver\n",
    "import warnings\n",
    "warnings.filterwarnings('ignore')\n",
    "from selenium.common.exceptions import StaleElementReferenceException, NoSuchElementException\n",
    "from selenium.webdriver.common.by import By\n",
    "\n",
    "import time"
   ]
  },
  {
   "cell_type": "code",
   "execution_count": 39,
   "id": "adb67534",
   "metadata": {},
   "outputs": [],
   "source": [
    "driver = webdriver.Chrome(r\"C:\\Users\\Dell\\Downloads\\chromedriver_win32\\chromedriver.exe\"  )"
   ]
  },
  {
   "cell_type": "code",
   "execution_count": 40,
   "id": "bc184a0c",
   "metadata": {},
   "outputs": [],
   "source": [
    "#opening this page from automated chrome browser\n",
    "driver.get(\"https://www.youtube.com/\")"
   ]
  },
  {
   "cell_type": "code",
   "execution_count": 45,
   "id": "5fda8412",
   "metadata": {},
   "outputs": [],
   "source": [
    "element=driver.find_element(By.XPATH,\"/html/body/ytd-app/div[1]/div/ytd-masthead/div[3]/div[2]/ytd-searchbox/form/div[1]/div[1]/input\")\n",
    "element.send_keys('aarti')"
   ]
  },
  {
   "cell_type": "code",
   "execution_count": 46,
   "id": "14f57d60",
   "metadata": {},
   "outputs": [],
   "source": [
    "search=driver.find_element(By.XPATH,\"/html/body/ytd-app/div[1]/div/ytd-masthead/div[3]/div[2]/ytd-searchbox/button/yt-icon\")\n",
    "search.click()"
   ]
  },
  {
   "cell_type": "code",
   "execution_count": 47,
   "id": "ab4f8e41",
   "metadata": {},
   "outputs": [],
   "source": [
    "aarti=driver.find_element(By.XPATH,\"/html/body/ytd-app/div[1]/ytd-page-manager/ytd-search/div[1]/ytd-two-column-search-results-renderer/div/ytd-section-list-renderer/div[2]/ytd-item-section-renderer/div[3]/ytd-video-renderer[1]/div[1]/div/div[1]/div/h3/a\")\n",
    "aarti.click()"
   ]
  },
  {
   "cell_type": "code",
   "execution_count": 50,
   "id": "6ae8818a",
   "metadata": {},
   "outputs": [],
   "source": [
    "for _ in range(1000):\n",
    "    driver.execute_script(\"window.scrollBy(0,10000)\")\n",
    "    \n",
    "comment_box =[]    \n",
    "comment_tags=driver.find_elements(By.XPATH,\"//div[@class='style-scope yt-pdg-comment-chip-renderer']\")\n",
    "for i in comment_tags[0:500]:\n",
    "    comment=i.text\n",
    "    comment_box.append(comment)\n",
    "    "
   ]
  },
  {
   "cell_type": "code",
   "execution_count": 51,
   "id": "2b9b3426",
   "metadata": {},
   "outputs": [
    {
     "data": {
      "text/plain": [
       "500"
      ]
     },
     "execution_count": 51,
     "metadata": {},
     "output_type": "execute_result"
    }
   ],
   "source": [
    "len(comment_box)"
   ]
  },
  {
   "cell_type": "code",
   "execution_count": 52,
   "id": "6f197ce3",
   "metadata": {},
   "outputs": [],
   "source": [
    "for _ in range(1000):\n",
    "    driver.execute_script(\"window.scrollBy(0,1000)\")\n",
    "    \n",
    "time_ago =[]    \n",
    "time_tags=driver.find_elements(By.XPATH,\"//a[@class='yt-simple-endpoint style-scope yt-formatted-string']\")\n",
    "for i in time_tags[0:500]:\n",
    "    time=i.text\n",
    "    time_ago.append(time)"
   ]
  },
  {
   "cell_type": "code",
   "execution_count": 53,
   "id": "fd6b244f",
   "metadata": {},
   "outputs": [
    {
     "data": {
      "text/plain": [
       "500"
      ]
     },
     "execution_count": 53,
     "metadata": {},
     "output_type": "execute_result"
    }
   ],
   "source": [
    "len(time_ago)"
   ]
  },
  {
   "cell_type": "code",
   "execution_count": 54,
   "id": "ae04ccd7",
   "metadata": {},
   "outputs": [],
   "source": [
    "driver.close()"
   ]
  },
  {
   "cell_type": "code",
   "execution_count": null,
   "id": "270b9325",
   "metadata": {},
   "outputs": [],
   "source": []
  }
 ],
 "metadata": {
  "kernelspec": {
   "display_name": "Python 3 (ipykernel)",
   "language": "python",
   "name": "python3"
  },
  "language_info": {
   "codemirror_mode": {
    "name": "ipython",
    "version": 3
   },
   "file_extension": ".py",
   "mimetype": "text/x-python",
   "name": "python",
   "nbconvert_exporter": "python",
   "pygments_lexer": "ipython3",
   "version": "3.9.7"
  }
 },
 "nbformat": 4,
 "nbformat_minor": 5
}
