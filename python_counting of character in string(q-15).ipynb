{
 "cells": [
  {
   "cell_type": "code",
   "execution_count": 27,
   "id": "ab7a22e8",
   "metadata": {},
   "outputs": [
    {
     "name": "stdout",
     "output_type": "stream",
     "text": [
      "B = 1\n",
      "a = 3\n",
      "n = 2\n",
      "a = 3\n",
      "n = 2\n",
      "a = 3\n"
     ]
    }
   ],
   "source": [
    "# counting of predefined character frequency\n",
    "\n",
    "my_string = (\"Banana\")\n",
    "\n",
    "\n",
    "for i in my_string:\n",
    "    frequency = my_string.count(i)\n",
    "    print(str(i) + \" = \" +str(frequency))"
   ]
  },
  {
   "cell_type": "code",
   "execution_count": null,
   "id": "310a4207",
   "metadata": {},
   "outputs": [],
   "source": []
  }
 ],
 "metadata": {
  "kernelspec": {
   "display_name": "Python 3 (ipykernel)",
   "language": "python",
   "name": "python3"
  },
  "language_info": {
   "codemirror_mode": {
    "name": "ipython",
    "version": 3
   },
   "file_extension": ".py",
   "mimetype": "text/x-python",
   "name": "python",
   "nbconvert_exporter": "python",
   "pygments_lexer": "ipython3",
   "version": "3.9.7"
  }
 },
 "nbformat": 4,
 "nbformat_minor": 5
}
